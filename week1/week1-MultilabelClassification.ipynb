{
  "nbformat": 4,
  "nbformat_minor": 0,
  "metadata": {
    "kernelspec": {
      "display_name": "Python 3",
      "language": "python",
      "name": "python3"
    },
    "language_info": {
      "codemirror_mode": {
        "name": "ipython",
        "version": 3
      },
      "file_extension": ".py",
      "mimetype": "text/x-python",
      "name": "python",
      "nbconvert_exporter": "python",
      "pygments_lexer": "ipython3",
      "version": "3.4.3"
    },
    "colab": {
      "name": "week1-MultilabelClassification.ipynb",
      "provenance": [],
      "toc_visible": true
    }
  },
  "cells": [
    {
      "cell_type": "markdown",
      "metadata": {
        "id": "CnigtmbA5yiS",
        "colab_type": "text"
      },
      "source": [
        "# Predict tags on StackOverflow with linear models"
      ]
    },
    {
      "cell_type": "code",
      "metadata": {
        "id": "wYEnk8Ra9yvi",
        "colab_type": "code",
        "outputId": "c9c79c26-d33b-4e97-c385-4ac181541334",
        "colab": {
          "base_uri": "https://localhost:8080/",
          "height": 121
        }
      },
      "source": [
        "! wget https://raw.githubusercontent.com/hse-aml/natural-language-processing/master/setup_google_colab.py -O setup_google_colab.py\n",
        "import setup_google_colab\n",
        "# please, uncomment the week you're working on\n",
        "setup_google_colab.setup_week1()  \n",
        "# setup_google_colab.setup_week2()\n",
        "# setup_google_colab.setup_week3()\n",
        "# setup_google_colab.setup_week4()\n",
        "# setup_google_colab.setup_project()\n",
        "# setup_google_colab.setup_honor()"
      ],
      "execution_count": 127,
      "outputs": [
        {
          "output_type": "stream",
          "text": [
            "--2020-04-21 15:58:54--  https://raw.githubusercontent.com/hse-aml/natural-language-processing/master/setup_google_colab.py\n",
            "Resolving raw.githubusercontent.com (raw.githubusercontent.com)... 151.101.0.133, 151.101.64.133, 151.101.128.133, ...\n",
            "Connecting to raw.githubusercontent.com (raw.githubusercontent.com)|151.101.0.133|:443... connected.\n",
            "HTTP request sent, awaiting response... 500 Internal Server Error\n",
            "2020-04-21 15:59:06 ERROR 500: Internal Server Error.\n",
            "\n"
          ],
          "name": "stdout"
        }
      ]
    },
    {
      "cell_type": "code",
      "metadata": {
        "id": "UdKSDWphDyHT",
        "colab_type": "code",
        "colab": {
          "base_uri": "https://localhost:8080/",
          "height": 34
        },
        "outputId": "9cc945bd-e931-4642-f07c-48c268358e9d"
      },
      "source": [
        "from google.colab import drive\n",
        "drive.mount('/content/drive')"
      ],
      "execution_count": 128,
      "outputs": [
        {
          "output_type": "stream",
          "text": [
            "Drive already mounted at /content/drive; to attempt to forcibly remount, call drive.mount(\"/content/drive\", force_remount=True).\n"
          ],
          "name": "stdout"
        }
      ]
    },
    {
      "cell_type": "markdown",
      "metadata": {
        "id": "pJJyBO5f5yiU",
        "colab_type": "text"
      },
      "source": [
        "In this assignment you will learn how to predict tags for posts from [StackOverflow](https://stackoverflow.com). To solve this task you will use multilabel classification approach.\n",
        "\n",
        "### Libraries\n",
        "\n",
        "In this task you will need the following libraries:\n",
        "- [Numpy](http://www.numpy.org) — a package for scientific computing.\n",
        "- [Pandas](https://pandas.pydata.org) — a library providing high-performance, easy-to-use data structures and data analysis tools for the Python\n",
        "- [scikit-learn](http://scikit-learn.org/stable/index.html) — a tool for data mining and data analysis.\n",
        "- [NLTK](http://www.nltk.org) — a platform to work with natural language."
      ]
    },
    {
      "cell_type": "markdown",
      "metadata": {
        "id": "SjZ2S1xN5yiX",
        "colab_type": "text"
      },
      "source": [
        "### Data\n",
        "\n",
        "The following cell will download all data required for this assignment into the folder `week1/data`."
      ]
    },
    {
      "cell_type": "code",
      "metadata": {
        "colab_type": "code",
        "outputId": "10b52e26-ae49-4db0-9712-52a510561cb1",
        "id": "nqAMuO-z9uAt",
        "colab": {
          "base_uri": "https://localhost:8080/",
          "height": 86
        }
      },
      "source": [
        "import sys\n",
        "sys.path.append(\"..\")\n",
        "from common.download_utils import download_week1_resources\n",
        "\n",
        "download_week1_resources()"
      ],
      "execution_count": 129,
      "outputs": [
        {
          "output_type": "stream",
          "text": [
            "File data/train.tsv is already downloaded.\n",
            "File data/validation.tsv is already downloaded.\n",
            "File data/test.tsv is already downloaded.\n",
            "File data/text_prepare_tests.tsv is already downloaded.\n"
          ],
          "name": "stdout"
        }
      ]
    },
    {
      "cell_type": "markdown",
      "metadata": {
        "id": "IyDnQScn5yim",
        "colab_type": "text"
      },
      "source": [
        "### Grading\n",
        "We will create a grader instance below and use it to collect your answers. Note that these outputs will be stored locally inside grader and will be uploaded to platform only after running submitting function in the last part of this assignment. If you want to make partial submission, you can run that cell any time you want."
      ]
    },
    {
      "cell_type": "code",
      "metadata": {
        "id": "CkwMbcmL5yio",
        "colab_type": "code",
        "colab": {}
      },
      "source": [
        "from grader import Grader"
      ],
      "execution_count": 0,
      "outputs": []
    },
    {
      "cell_type": "code",
      "metadata": {
        "id": "zXLe-OXF5yix",
        "colab_type": "code",
        "colab": {}
      },
      "source": [
        "grader = Grader()"
      ],
      "execution_count": 0,
      "outputs": []
    },
    {
      "cell_type": "markdown",
      "metadata": {
        "id": "OfdQ-yP65yi3",
        "colab_type": "text"
      },
      "source": [
        "### Text preprocessing"
      ]
    },
    {
      "cell_type": "markdown",
      "metadata": {
        "id": "kNMbawne5yi5",
        "colab_type": "text"
      },
      "source": [
        "For this and most of the following assignments you will need to use a list of stop words. It can be downloaded from *nltk*:"
      ]
    },
    {
      "cell_type": "code",
      "metadata": {
        "id": "ruDRTabG5yi6",
        "colab_type": "code",
        "outputId": "9231b892-7d79-42a5-c8d9-32b4d2ffd3ea",
        "colab": {
          "base_uri": "https://localhost:8080/",
          "height": 52
        }
      },
      "source": [
        "import nltk\n",
        "nltk.download('stopwords')\n",
        "from nltk.corpus import stopwords"
      ],
      "execution_count": 132,
      "outputs": [
        {
          "output_type": "stream",
          "text": [
            "[nltk_data] Downloading package stopwords to /root/nltk_data...\n",
            "[nltk_data]   Package stopwords is already up-to-date!\n"
          ],
          "name": "stderr"
        }
      ]
    },
    {
      "cell_type": "markdown",
      "metadata": {
        "id": "xAAZ9JDz5yjA",
        "colab_type": "text"
      },
      "source": [
        "In this task you will deal with a dataset of post titles from StackOverflow. You are provided a split to 3 sets: *train*, *validation* and *test*. All corpora (except for *test*) contain titles of the posts and corresponding tags (100 tags are available). The *test* set is provided for Coursera's grading and doesn't contain answers. Upload the corpora using *pandas* and look at the data:"
      ]
    },
    {
      "cell_type": "code",
      "metadata": {
        "id": "NvYjNGa45yjC",
        "colab_type": "code",
        "colab": {}
      },
      "source": [
        "from ast import literal_eval\n",
        "import pandas as pd\n",
        "import numpy as np"
      ],
      "execution_count": 0,
      "outputs": []
    },
    {
      "cell_type": "code",
      "metadata": {
        "id": "cEy3lV1R5yjI",
        "colab_type": "code",
        "colab": {}
      },
      "source": [
        "def read_data(filename):\n",
        "    data = pd.read_csv(filename, sep='\\t')\n",
        "    data['tags'] = data['tags'].apply(literal_eval)\n",
        "    return data"
      ],
      "execution_count": 0,
      "outputs": []
    },
    {
      "cell_type": "code",
      "metadata": {
        "id": "MybuzPCU5yjO",
        "colab_type": "code",
        "colab": {}
      },
      "source": [
        "train = read_data('data/train.tsv')\n",
        "validation = read_data('data/validation.tsv')\n",
        "test = pd.read_csv('data/test.tsv', sep='\\t')"
      ],
      "execution_count": 0,
      "outputs": []
    },
    {
      "cell_type": "code",
      "metadata": {
        "id": "519Ht8eP5yjS",
        "colab_type": "code",
        "outputId": "2ede098f-eca8-4fa6-f8f8-4c1e87f87d82",
        "colab": {
          "base_uri": "https://localhost:8080/",
          "height": 206
        }
      },
      "source": [
        "train.head()"
      ],
      "execution_count": 136,
      "outputs": [
        {
          "output_type": "execute_result",
          "data": {
            "text/html": [
              "<div>\n",
              "<style scoped>\n",
              "    .dataframe tbody tr th:only-of-type {\n",
              "        vertical-align: middle;\n",
              "    }\n",
              "\n",
              "    .dataframe tbody tr th {\n",
              "        vertical-align: top;\n",
              "    }\n",
              "\n",
              "    .dataframe thead th {\n",
              "        text-align: right;\n",
              "    }\n",
              "</style>\n",
              "<table border=\"1\" class=\"dataframe\">\n",
              "  <thead>\n",
              "    <tr style=\"text-align: right;\">\n",
              "      <th></th>\n",
              "      <th>title</th>\n",
              "      <th>tags</th>\n",
              "    </tr>\n",
              "  </thead>\n",
              "  <tbody>\n",
              "    <tr>\n",
              "      <th>0</th>\n",
              "      <td>How to draw a stacked dotplot in R?</td>\n",
              "      <td>[r]</td>\n",
              "    </tr>\n",
              "    <tr>\n",
              "      <th>1</th>\n",
              "      <td>mysql select all records where a datetime fiel...</td>\n",
              "      <td>[php, mysql]</td>\n",
              "    </tr>\n",
              "    <tr>\n",
              "      <th>2</th>\n",
              "      <td>How to terminate windows phone 8.1 app</td>\n",
              "      <td>[c#]</td>\n",
              "    </tr>\n",
              "    <tr>\n",
              "      <th>3</th>\n",
              "      <td>get current time in a specific country via jquery</td>\n",
              "      <td>[javascript, jquery]</td>\n",
              "    </tr>\n",
              "    <tr>\n",
              "      <th>4</th>\n",
              "      <td>Configuring Tomcat to Use SSL</td>\n",
              "      <td>[java]</td>\n",
              "    </tr>\n",
              "  </tbody>\n",
              "</table>\n",
              "</div>"
            ],
            "text/plain": [
              "                                               title                  tags\n",
              "0                How to draw a stacked dotplot in R?                   [r]\n",
              "1  mysql select all records where a datetime fiel...          [php, mysql]\n",
              "2             How to terminate windows phone 8.1 app                  [c#]\n",
              "3  get current time in a specific country via jquery  [javascript, jquery]\n",
              "4                      Configuring Tomcat to Use SSL                [java]"
            ]
          },
          "metadata": {
            "tags": []
          },
          "execution_count": 136
        }
      ]
    },
    {
      "cell_type": "markdown",
      "metadata": {
        "id": "um7E5YyL5yjY",
        "colab_type": "text"
      },
      "source": [
        "As you can see, *title* column contains titles of the posts and *tags* column contains the tags. It could be noticed that a number of tags for a post is not fixed and could be as many as necessary."
      ]
    },
    {
      "cell_type": "markdown",
      "metadata": {
        "id": "5mZcGwkz5yjY",
        "colab_type": "text"
      },
      "source": [
        "For a more comfortable usage, initialize *X_train*, *X_val*, *X_test*, *y_train*, *y_val*."
      ]
    },
    {
      "cell_type": "code",
      "metadata": {
        "id": "Wl04BxA35yja",
        "colab_type": "code",
        "colab": {}
      },
      "source": [
        "X_train, y_train = train['title'].values, train['tags'].values\n",
        "X_val, y_val = validation['title'].values, validation['tags'].values\n",
        "X_test = test['title'].values"
      ],
      "execution_count": 0,
      "outputs": []
    },
    {
      "cell_type": "markdown",
      "metadata": {
        "id": "vYz5s1BJ5yje",
        "colab_type": "text"
      },
      "source": [
        "One of the most known difficulties when working with natural data is that it's unstructured. For example, if you use it \"as is\" and extract tokens just by splitting the titles by whitespaces, you will see that there are many \"weird\" tokens like *3.5?*, *\"Flip*, etc. To prevent the problems, it's usually useful to prepare the data somehow. In this task you'll write a function, which will be also used in the other assignments. \n",
        "\n",
        "**Task 1 (TextPrepare).** Implement the function *text_prepare* following the instructions. After that, run the function *test_text_prepare* to test it on tiny cases and submit it to Coursera."
      ]
    },
    {
      "cell_type": "code",
      "metadata": {
        "id": "l6rtA70I5yjg",
        "colab_type": "code",
        "colab": {
          "base_uri": "https://localhost:8080/",
          "height": 69
        },
        "outputId": "62fb9ac7-f801-4480-9adc-94fe4f75d5fe"
      },
      "source": [
        "import re\n",
        "from nltk.tokenize import word_tokenize\n",
        "nltk.download('punkt')\n"
      ],
      "execution_count": 138,
      "outputs": [
        {
          "output_type": "stream",
          "text": [
            "[nltk_data] Downloading package punkt to /root/nltk_data...\n",
            "[nltk_data]   Package punkt is already up-to-date!\n"
          ],
          "name": "stderr"
        },
        {
          "output_type": "execute_result",
          "data": {
            "text/plain": [
              "True"
            ]
          },
          "metadata": {
            "tags": []
          },
          "execution_count": 138
        }
      ]
    },
    {
      "cell_type": "code",
      "metadata": {
        "id": "Yv8LXtrW5yjm",
        "colab_type": "code",
        "outputId": "1de5efeb-8910-4a54-af92-cc7eeb76f9e8",
        "colab": {
          "base_uri": "https://localhost:8080/",
          "height": 34
        }
      },
      "source": [
        "REPLACE_BY_SPACE_RE = re.compile('[/(){}\\[\\]\\|@,;]')\n",
        "BAD_SYMBOLS_RE = re.compile('[^0-9a-z #+_]')\n",
        "STOPWORDS = set(stopwords.words('english'))\n",
        "\n",
        "def text_prepare(text):\n",
        "    \"\"\"\n",
        "        text: a string\n",
        "        \n",
        "        return: modified initial string\n",
        "    \"\"\"\n",
        "    text = text.lower() # lowercase text\n",
        "    text = re.sub(REPLACE_BY_SPACE_RE, \" \", text) # replace REPLACE_BY_SPACE_RE symbols by space in text\n",
        "    text = re.sub(BAD_SYMBOLS_RE, \"\", text) # delete symbols which are in BAD_SYMBOLS_RE from text\n",
        "    text_tokens = text.split()\n",
        "    tokens_without_sw = [word for word in text_tokens if not word in STOPWORDS] # delete stopwords from text\n",
        "    return (\" \").join(tokens_without_sw)\n",
        "\n",
        "textstr=\"I'm very hungry (all the time), read @home, loving'it :). My num; #0563+^9. I have a cat.\"\n",
        "print(f\"test: {text_prepare(textstr)}\")"
      ],
      "execution_count": 139,
      "outputs": [
        {
          "output_type": "stream",
          "text": [
            "test: im hungry time read home lovingit num #0563+9 cat\n"
          ],
          "name": "stdout"
        }
      ]
    },
    {
      "cell_type": "code",
      "metadata": {
        "id": "aP-7qwNp5yjp",
        "colab_type": "code",
        "colab": {}
      },
      "source": [
        "def test_text_prepare():\n",
        "    examples = [\"SQL Server - any equivalent of Excel's CHOOSE function?\",\n",
        "                \"How to free c++ memory vector<int> * arr?\"]\n",
        "    answers = [\"sql server equivalent excels choose function\", \n",
        "               \"free c++ memory vectorint arr\"]\n",
        "    for ex, ans in zip(examples, answers):\n",
        "        if text_prepare(ex) != ans:\n",
        "            return \"Wrong answer for the case: '%s'\" % ex\n",
        "    return 'Basic tests are passed.'"
      ],
      "execution_count": 0,
      "outputs": []
    },
    {
      "cell_type": "code",
      "metadata": {
        "id": "jqZcN5M15yju",
        "colab_type": "code",
        "outputId": "15b75711-6f2f-4748-96f4-2de635474693",
        "colab": {
          "base_uri": "https://localhost:8080/",
          "height": 34
        }
      },
      "source": [
        "print(test_text_prepare())"
      ],
      "execution_count": 141,
      "outputs": [
        {
          "output_type": "stream",
          "text": [
            "Basic tests are passed.\n"
          ],
          "name": "stdout"
        }
      ]
    },
    {
      "cell_type": "markdown",
      "metadata": {
        "id": "QzpAzHIJ5yjz",
        "colab_type": "text"
      },
      "source": [
        "Run your implementation for questions from file *text_prepare_tests.tsv* to earn the points."
      ]
    },
    {
      "cell_type": "code",
      "metadata": {
        "id": "B7FqEXga5yj0",
        "colab_type": "code",
        "outputId": "95df2b26-0548-421b-a936-f3bb14f9350d",
        "colab": {
          "base_uri": "https://localhost:8080/",
          "height": 104
        }
      },
      "source": [
        "prepared_questions = []\n",
        "for line in open('data/text_prepare_tests.tsv', encoding='utf-8'):\n",
        "    line = text_prepare(line.strip())\n",
        "    prepared_questions.append(line)\n",
        "text_prepare_results = '\\n'.join(prepared_questions)\n",
        "\n",
        "grader.submit_tag('TextPrepare', text_prepare_results)"
      ],
      "execution_count": 142,
      "outputs": [
        {
          "output_type": "stream",
          "text": [
            "Current answer for task TextPrepare is:\n",
            " sqlite php readonly\n",
            "creating multiple textboxes dynamically\n",
            "self one prefer javascript\n",
            "save php date...\n"
          ],
          "name": "stdout"
        }
      ]
    },
    {
      "cell_type": "markdown",
      "metadata": {
        "id": "TRrvFHku5yj3",
        "colab_type": "text"
      },
      "source": [
        "Now we can preprocess the titles using function *text_prepare* and  making sure that the headers don't have bad symbols:"
      ]
    },
    {
      "cell_type": "code",
      "metadata": {
        "id": "voe3aSR15yj4",
        "colab_type": "code",
        "colab": {}
      },
      "source": [
        "X_train = [text_prepare(x) for x in X_train]\n",
        "X_val = [text_prepare(x) for x in X_val]\n",
        "X_test = [text_prepare(x) for x in X_test]"
      ],
      "execution_count": 0,
      "outputs": []
    },
    {
      "cell_type": "code",
      "metadata": {
        "id": "hpdCYG_K5yj8",
        "colab_type": "code",
        "outputId": "9b339e8b-db28-423f-b816-a6044e8abbfa",
        "colab": {
          "base_uri": "https://localhost:8080/",
          "height": 52
        }
      },
      "source": [
        "print(X_train[:3])\n",
        "print(y_train[:3])\n"
      ],
      "execution_count": 144,
      "outputs": [
        {
          "output_type": "stream",
          "text": [
            "['draw stacked dotplot r', 'mysql select records datetime field less specified value', 'terminate windows phone 81 app']\n",
            "[list(['r']) list(['php', 'mysql']) list(['c#'])]\n"
          ],
          "name": "stdout"
        }
      ]
    },
    {
      "cell_type": "markdown",
      "metadata": {
        "id": "pcshg6CW5ykA",
        "colab_type": "text"
      },
      "source": [
        "For each tag and for each word calculate how many times they occur in the train corpus. \n",
        "\n",
        "**Task 2 (WordsTagsCount).** Find 3 most popular tags and 3 most popular words in the train data and submit the results to earn the points."
      ]
    },
    {
      "cell_type": "code",
      "metadata": {
        "id": "WqLXbN8vS4T-",
        "colab_type": "code",
        "outputId": "02c5db9e-338d-4d52-afab-8436ec602f26",
        "colab": {
          "base_uri": "https://localhost:8080/",
          "height": 72
        }
      },
      "source": [
        "# tokenize words\n",
        "y_train_flat = [item for sublist in y_train for item in sublist]\n",
        "print(y_train_flat[:3])\n",
        "X_train_tokens = [item for sublist in [x.split() for x in X_train] for item in sublist]\n",
        "print(X_train_tokens[:20])"
      ],
      "execution_count": 145,
      "outputs": [
        {
          "output_type": "stream",
          "text": [
            "['r', 'php', 'mysql']\n",
            "['draw', 'stacked', 'dotplot', 'r', 'mysql', 'select', 'records', 'datetime', 'field', 'less', 'specified', 'value', 'terminate', 'windows', 'phone', '81', 'app', 'get', 'current', 'time']\n"
          ],
          "name": "stdout"
        }
      ]
    },
    {
      "cell_type": "code",
      "metadata": {
        "id": "8brX5SEu5ykB",
        "colab_type": "code",
        "outputId": "4b008580-bea6-4c88-f56f-51acaf6c492a",
        "colab": {
          "base_uri": "https://localhost:8080/",
          "height": 211
        }
      },
      "source": [
        "from sklearn.feature_extraction.text import CountVectorizer\n",
        "cvX = CountVectorizer()\n",
        "\n",
        "def getUniqueWords(allWords) :\n",
        "    uniqueWords = [] \n",
        "    for i in allWords:\n",
        "        if not i in uniqueWords:\n",
        "            uniqueWords.append(i)\n",
        "    return uniqueWords\n",
        "\n",
        "tags = getUniqueWords(y_train_flat)\n",
        "print(tags)\n",
        "words = getUniqueWords(X_train_tokens)\n",
        "print(words[:10])\n",
        "\n",
        "# Dictionary of all tags from train corpus with their counts.\n",
        "tags_counts = sorted([(x, y_train_flat.count(x)) for x in tags], key=lambda y: y[1])\n",
        "print(tags_counts[:3])\n",
        "\n",
        "for elem in tags_counts[-3:]:\n",
        "    print('{} {}'.format(elem[0], elem[1]))\n",
        "\n",
        "# Dictionary of all words from train corpus with their counts.\n",
        "words_counts = sorted([(x, X_train_tokens.count(x)) for x in words], key=lambda y: y[1])\n",
        "print(words_counts[:3])\n",
        "\n",
        "for elem in words_counts[-3:]:\n",
        "    print('{} {}'.format(elem[0], elem[1]))\n"
      ],
      "execution_count": 146,
      "outputs": [
        {
          "output_type": "stream",
          "text": [
            "['r', 'php', 'mysql', 'c#', 'javascript', 'jquery', 'java', 'ruby-on-rails', 'ruby', 'ruby-on-rails-3', 'json', 'spring', 'spring-mvc', 'codeigniter', 'class', 'html', 'ios', 'c++', 'eclipse', 'python', 'list', 'objective-c', 'swift', 'xaml', 'asp.net', 'wpf', 'multithreading', 'image', 'performance', 'twitter-bootstrap', 'linq', 'xml', 'numpy', 'ajax', 'django', 'laravel', 'android', 'rest', 'asp.net-mvc', 'web-services', 'string', 'excel', 'winforms', 'arrays', 'c', 'sockets', 'osx', 'entity-framework', 'mongodb', 'opencv', 'xcode', 'uitableview', 'algorithm', 'python-2.7', 'angularjs', 'dom', 'swing', '.net', 'vb.net', 'google-maps', 'hibernate', 'wordpress', 'iphone', 'sql', 'visual-studio', 'linux', 'facebook', 'database', 'file', 'generics', 'visual-studio-2010', 'regex', 'html5', 'jsp', 'csv', 'forms', 'validation', 'parsing', 'function', 'pandas', 'sorting', 'qt', 'wcf', 'css', 'date', 'node.js', 'sql-server', 'unit-testing', 'python-3.x', 'loops', 'windows', 'pointers', 'oop', 'datetime', 'servlets', 'session', 'cocoa-touch', 'apache', 'selenium', 'maven']\n",
            "['draw', 'stacked', 'dotplot', 'r', 'mysql', 'select', 'records', 'datetime', 'field', 'less']\n",
            "[('mongodb', 350), ('pointers', 350), ('sorting', 375)]\n",
            "java 18661\n",
            "c# 19077\n",
            "javascript 19078\n",
            "[('dotplot', 1), ('javalangclasst', 1), ('q_uestion', 1)]\n",
            "java 5501\n",
            "php 5614\n",
            "using 8278\n"
          ],
          "name": "stdout"
        }
      ]
    },
    {
      "cell_type": "code",
      "metadata": {
        "id": "3_MjXOn7DqO-",
        "colab_type": "code",
        "colab": {}
      },
      "source": [
        ""
      ],
      "execution_count": 0,
      "outputs": []
    },
    {
      "cell_type": "markdown",
      "metadata": {
        "id": "9HVrCuzZ5ykE",
        "colab_type": "text"
      },
      "source": [
        "We are assuming that *tags_counts* and *words_counts* are dictionaries like `{'some_word_or_tag': frequency}`. After applying the sorting procedure, results will be look like this: `[('most_popular_word_or_tag', frequency), ('less_popular_word_or_tag', frequency), ...]`. The grader gets the results in the following format (two comma-separated strings with line break):\n",
        "\n",
        "    tag1,tag2,tag3\n",
        "    word1,word2,word3\n",
        "\n",
        "Pay attention that in this assignment you should not submit frequencies or some additional information."
      ]
    },
    {
      "cell_type": "code",
      "metadata": {
        "id": "4g1WopbN5ykF",
        "colab_type": "code",
        "outputId": "5ec9ffd8-d3f9-48c2-f894-72a685e5129e",
        "colab": {
          "base_uri": "https://localhost:8080/",
          "height": 69
        }
      },
      "source": [
        "most_common_tags = tags_counts[-3:] #sorted(tags_counts.items(), key=lambda x: x[1], reverse=True)[:3]\n",
        "most_common_words = words_counts[-3:] #sorted(words_counts.items(), key=lambda x: x[1], reverse=True)[:3]\n",
        "\n",
        "grader.submit_tag('WordsTagsCount', '%s\\n%s' % (','.join(tag for tag, _ in most_common_tags), \n",
        "                                                ','.join(word for word, _ in most_common_words)))"
      ],
      "execution_count": 147,
      "outputs": [
        {
          "output_type": "stream",
          "text": [
            "Current answer for task WordsTagsCount is:\n",
            " java,c#,javascript\n",
            "java,php,using...\n"
          ],
          "name": "stdout"
        }
      ]
    },
    {
      "cell_type": "markdown",
      "metadata": {
        "id": "DumqEEd05ykI",
        "colab_type": "text"
      },
      "source": [
        "### Transforming text to a vector\n",
        "\n",
        "Machine Learning algorithms work with numeric data and we cannot use the provided text data \"as is\". There are many ways to transform text data to numeric vectors. In this task you will try to use two of them.\n",
        "\n",
        "#### Bag of words\n",
        "\n",
        "One of the well-known approaches is a *bag-of-words* representation. To create this transformation, follow the steps:\n",
        "1. Find *N* most popular words in train corpus and numerate them. Now we have a dictionary of the most popular words.\n",
        "2. For each title in the corpora create a zero vector with the dimension equals to *N*.\n",
        "3. For each text in the corpora iterate over words which are in the dictionary and increase by 1 the corresponding coordinate.\n",
        "\n",
        "Let's try to do it for a toy example. Imagine that we have *N* = 4 and the list of the most popular words is \n",
        "\n",
        "    ['hi', 'you', 'me', 'are']\n",
        "\n",
        "Then we need to numerate them, for example, like this: \n",
        "\n",
        "    {'hi': 0, 'you': 1, 'me': 2, 'are': 3}\n",
        "\n",
        "And we have the text, which we want to transform to the vector:\n",
        "\n",
        "    'hi how are you'\n",
        "\n",
        "For this text we create a corresponding zero vector \n",
        "\n",
        "    [0, 0, 0, 0]\n",
        "    \n",
        "And iterate over all words, and if the word is in the dictionary, we increase the value of the corresponding position in the vector:\n",
        "\n",
        "    'hi':  [1, 0, 0, 0]\n",
        "    'how': [1, 0, 0, 0] # word 'how' is not in our dictionary\n",
        "    'are': [1, 0, 0, 1]\n",
        "    'you': [1, 1, 0, 1]\n",
        "\n",
        "The resulting vector will be \n",
        "\n",
        "    [1, 1, 0, 1]\n",
        "   \n",
        "Implement the described encoding in the function *my_bag_of_words* with the size of the dictionary equals to 5000. To find the most common words use train data. You can test your code using the function *test_my_bag_of_words*."
      ]
    },
    {
      "cell_type": "code",
      "metadata": {
        "id": "pOzT_Esf5ykK",
        "colab_type": "code",
        "outputId": "d540a5bb-068f-439a-e202-9924b9e55bc4",
        "colab": {
          "base_uri": "https://localhost:8080/",
          "height": 106
        }
      },
      "source": [
        "DICT_SIZE = 5000\n",
        "dict_words = dict(words_counts)\n",
        "ALL_WORDS = list(dict_words.keys())[-DICT_SIZE:]\n",
        "ALL_WORDS.reverse()\n",
        "print(ALL_WORDS)\n",
        "WORDS_TO_INDEX = dict(zip(ALL_WORDS, [i for i in range(len(ALL_WORDS))]))\n",
        "INDEX_TO_WORDS = ALL_WORDS\n",
        "print(WORDS_TO_INDEX[\"using\"])\n",
        "print(INDEX_TO_WORDS[-1])\n",
        "\n",
        "def my_bag_of_words(text, words_to_index, dict_size):\n",
        "    \"\"\"\n",
        "        text: a string\n",
        "        dict_size: size of the dictionary\n",
        "        \n",
        "        return a vector which is a bag-of-words representation of 'text'\n",
        "    \"\"\"\n",
        "    result_vector = np.zeros(dict_size)\n",
        "    list_str = text.split()\n",
        "    allwords = words_to_index.keys()\n",
        "    for word in list_str:\n",
        "      if word in allwords:\n",
        "        result_vector[words_to_index[word]] += 1\n",
        "\n",
        "    return result_vector\n",
        "\n",
        "my_bag_of_words(\"hi like are are like hi\", {'hi': 0, 'you': 1, 'me': 2, 'are': 3}, 4)"
      ],
      "execution_count": 148,
      "outputs": [
        {
          "output_type": "stream",
          "text": [
            "['using', 'php', 'java', 'file', 'javascript', 'error', 'get', 'c#', 'python', 'string', 'array', 'data', 'jquery', 'value', 'function', 'object', 'class', 'use', 'c++', 'list', 'method', 'multiple', 'text', 'image', 'page', 'rails', 'form', 'create', 'html', 'type', 'code', 'set', 'working', 'database', 'add', 'convert', 'mysql', 'json', 'c', 'server', 'variable', 'android', 'values', 'aspnet', 'way', 'application', 'change', 'button', 'find', 'django', 'one', 'without', 'windows', 'cannot', 'table', 'call', 'files', 'ajax', 'check', 'time', 'name', 'two', 'ruby', 'getting', 'date', 'web', 'make', 'user', 'input', 'xml', 'app', 'another', 'element', 'custom', 'event', 'api', 'access', 'url', 'number', 'spring', 'view', 'sql', 'return', 'mvc', 'select', 'google', 'query', 'inside', 'exception', 'display', 'column', 'loop', 'read', 'swift', 'remove', 'work', 'new', 'load', 'r', 'objects', 'property', 'line', 'cant', 'pass', 'click', 'framework', 'update', 'script', 'vs', 'post', 'null', '2', 'creating', 'net', 'request', 'different', 'field', 'run', 'key', 'row', 'doesnt', 'ios', 'service', 'linq', 'div', 'open', 'window', 'project', 'wpf', 'best', 'format', 'show', 'variables', 'controller', 'undefined', 'dynamically', 'specific', 'adding', 'based', 'angularjs', 'control', 'parameter', 'send', 'model', '3', 'difference', 'library', 'first', 'insert', 'vbnet', 'passing', 'js', 'regex', 'elements', 'codeigniter', 'within', 'eclipse', 'path', 'dynamic', 'visual', 'memory', 'connection', 'possible', 'id', 'thread', 'save', 'default', '+', 'via', 'running', 'size', 'found', 'program', 'content', 'reference', 'issue', 'write', 'attribute', 'studio', 'laravel', 'search', 'excel', 'test', 'static', 'session', 'output', 'http', 'characters', 'character', 'entity', 'current', 'problem', 'calling', 'client', 'empty', 'int', 'simple', 'css', 'upload', 'parameters', 'command', 'reading', 'directory', 'validation', '1', 'map', 'hibernate', 'selected', 'textbox', 'unable', 'browser', 'item', 'images', 'link', 'index', 'facebook', 'expression', 'setting', 'store', 'delete', 'single', 'template', 'like', 'statement', 'strings', 'failed', 'rows', 'replace', 'header', 'loading', 'login', 'box', 'iphone', '4', 'numbers', 'color', 'nested', 'returning', 'background', 'instance', 'print', 'pdf', 'parse', 'char', 'could', 'disable', 'bootstrap', 'message', 'module', 'csv', 'tag', 'converting', 'chrome', 'x', 'parent', 'invalid', 'returns', 'local', 'methods', 'need', 'connect', 'email', 'changing', 'trying', 'functions', 'response', 'install', 'redirect', 'order', 'angular', 'dictionary', 'arrays', 'dropdown', 'classes', 'generate', 'folder', 'submit', 'bar', 'pandas', 'process', 'columns', 'checkbox', 'source', 'child', 'integer', 'count', 'items', 'parsing', 'sending', 'start', 'double', 'detect', 'jsp', 'fields', 'hide', 'datetime', 'console', 'pointer', 'gridview', 'selenium', 'linux', 'constructor', '7', 'random', 'import', 'action', 'programmatically', 'collection', 'instead', 'version', 'datagridview', 'sort', 'filter', 'objectivec', 'website', 'generic', 'result', 'last', 'build', 'system', 'download', 'properties', 'split', 'nodejs', 'back', 'iframe', 'interface', 'arguments', 'binding', 'cell', 'syntax', '5', 'datatable', 'scroll', 'xcode', 'binary', 'onclick', 'external', 'position', 'socket', '0', 'execute', 'rest', 'missing', 'called', 'word', 'maps', 'typeerror', 'implement', 'byte', 'copy', 'extension', 'whats', 'video', 'refresh', 'menu', 'match', 'node', 'argument', 'given', 'wordpress', 'retrieve', 'include', 'regular', 'accessing', 'showing', 'canvas', 'forms', 'document', 'results', 'runtime', 'ui', 'defined', 'arraylist', 'handle', 'drop', 'errors', 'apache', 'group', 'large', 'wcf', 'compare', 'height', 'opencv', 'mobile', 'ie', 'address', 'properly', 'many', 'equivalent', 'member', 'exists', 'screen', '8', 'global', 'password', 'plugin', 'expected', 'maven', 'jar', 'events', 'vector', 'servlet', 'numpy', 'types', 'writing', 'location', 'length', 'extract', 'html5', 'stored', 'width', 'certain', 'dialog', 'dataframe', 'close', 'used', 'help', 'range', 'style', 'prevent', 'handling', 'names', 'works', 'automatically', 'every', 'magento', 'resource', 'cast', 'fails', 'tomcat', 'warning', 'pattern', 'created', 'popup', 'frame', 'wrong', 'displaying', 'validate', 'contains', 'enum', 'qt', 'updating', 'package', 'curl', 'stop', 'listview', 'testing', 'must', 'operator', 'space', '2d', 'context', 'authentication', 'put', 'conversion', 'keys', 'structure', 'auto', 'main', 'callback', 'exist', 'end', 'token', 'saving', 'problems', 'db', 'tab', 'long', 'existing', 'foreach', 'block', 'always', 'dll', 'finding', 'grid', 'sorting', 'remote', 'matplotlib', 'option', 'buttons', 'sqlite', 'determine', 'bind', 'tags', 'performance', 'stream', 'firefox', 'modal', 'plot', 'label', 'mac', 'uncaught', 'combobox', 'decimal', 'join', 'example', 'radio', 'phone', 'chart', 'attributes', 'unexpected', 'compile', 'dom', 'correctly', 'checking', 'right', 'base', 'lines', 'installing', 'point', 'tables', 'users', 'float', 'mouse', 'support', 'basic', 'struct', 'tree', 'unit', 'making', 'scope', 'unique', 'threads', 'catch', 'duplicate', 'hash', 'correct', 'already', 'mean', 'handler', 'next', 'good', 'even', 'wont', 'removing', 'uitableview', 'admin', 'task', 'edit', 'matrix', 'valid', 'pages', 'contents', 'namespace', 'dates', 'graph', 'lists', 'debug', 'const', 'encoding', 'log', 'sdk', 'site', 'changes', 'calculate', 'case', 'objective', 'active', 'side', 'storing', 'configuration', 'programming', 'limit', 'full', 'sum', 'jpa', 'keep', 'listbox', 'top', 'animation', 'implementation', 'unicode', 'override', 'append', 'mongodb', 'printing', 'allow', 'twitter', 'part', 'winforms', 'record', 'core', 'utf8', 'resize', 'loaded', 'lambda', 'controls', 'security', 'ip', 'mail', 'times', 'play', 'pdo', 'layout', 'selection', 'game', 'fatal', 'async', 'language', 'bean', 'records', 'cookie', 'webdriver', 'boolean', 'outside', 'switch', 'constant', 'draw', 'force', 'gui', 'domain', 'cakephp', 'inserting', 'true', 'unknown', 'wait', 'assign', 'named', 'slow', '20', 'mode', 'false', 'port', 'multidimensional', 'condition', 'available', 'netbeans', 'mapping', 'requests', 'issues', 'oracle', 'focus', 'state', 'generated', 'enable', 'assembly', 'ubuntu', 'device', 'clicked', 'uploading', 'jdbc', 'yii', 'populate', 'gem', 'soap', 'swing', 'specified', 'engine', 'special', 'required', 'initialize', 'know', 'executing', '2010', 'exceptions', 'checked', 'native', 'bad', 'network', '6', 'design', 'try', 'javafx', 'tkinter', 'avoid', 'webservice', 'export', 'month', 'timeout', 'question', 'move', 'heroku', '404', 'want', 'n', 'trigger', 'efficient', 'stack', 'iterate', 'dont', 'timer', 'component', 'os', '10', 'body', 'words', 'zend', 'implementing', 'views', 'textarea', 'linked', 'clicking', 'compiler', 'symbol', 'navigation', 'root', 'flask', 'render', 'clear', 'datagrid', 'define', 'second', 'symfony2', 'fill', 'pointers', 'particular', 'procedure', 'route', 'private', 'inheritance', 'ssl', 'declaration', 'scrolling', 'left', 'information', 'rspec', 'bytes', 'behind', 'status', 'spaces', 'push', 'reflection', 'calendar', 'services', 'fix', 'fetch', 'alert', 'xpath', 'algorithm', 'youtube', 'integers', 'cache', 'apply', 'dependency', 'calls', 'development', 'https', 'max', 'hex', 'maximum', 'options', 'environment', 'previous', 'target', 'progress', 'usage', 'comparing', 'internet', 'practice', 'title', 'merge', 'models', 'headers', 'changed', 'boost', 'libraries', 'driver', 'notification', 'processing', 'tests', 'opengl', 'font', 'shared', 'symfony', 'panel', 'statements', 'apps', 'matching', 'datepicker', 'installed', 'xaml', 'public', 'comma', 'resources', 'icon', 'standard', 'separate', 'htaccess', 'links', 'abstract', 'report', 'directive', 'resolve', 'asp', 'would', 'logging', 'debugging', 'serialize', 'container', 'hidden', 'better', 'hashmap', 'see', 'react', 'ggplot2', 'configure', 'junit', 'autocomplete', 'queries', 'alternative', 'partial', 'throws', 'returned', 'messages', 'echo', 'visible', 'selecting', 'something', 'devise', 'generating', 'declare', 'checkboxes', 'svg', 'proxy', 'keyboard', 'escape', 'coordinates', 'whether', 'jtable', 'take', 'denied', 'formatting', 'virtual', 'causes', 'quotes', 'operation', 'contain', 'setup', 'drawing', 'reload', 'jsf', 'drag', 'day', 'extjs', 'dataset', 'product', 'shell', 'dropdownlist', 'twice', 'applications', 'cells', 'containing', 'phonegap', 'strange', 'queue', 'rendering', 'entities', 'webpage', 'delegate', 'machine', 'intellij', 'gcc', 'execution', 'per', 'inline', 'connecting', 'conditional', 'ms', 'opening', 'level', 'uiview', 'relationship', 'blank', 'internal', 'etc', 'safe', 'modify', 'relative', 'initialization', 'widget', 'gives', 'serialization', 'razor', 'capture', 'timestamp', 'definition', 'jqgrid', 'nodes', 'building', 'importing', 'batch', 'allowed', 'else', 'compiling', 'expressions', 'retrieving', 'tcp', 'numeric', 'still', 'added', 'doctrine', 'seconds', 'sqlalchemy', 'host', 'year', 'selector', 'cookies', 'highcharts', 'boot', 'foreign', 'nsstring', 'href', 'fast', 'embedded', 'annotation', 'config', 'starting', 'jackson', 'jframe', 'firing', 'section', 'injection', 'touch', 'protocol', 'reset', 'closing', 'points', 'ascii', 'webbrowser', 'jaxb', 'tabs', 'cursor', 'labels', 'passed', 'sharepoint', 'hover', 'trouble', 'postgresql', 'transaction', 'overriding', 'replacing', 'assignment', 'asynchronous', 'urls', 'explorer', 'localhost', 'sequence', 'specify', 'recursive', 'gwt', 'able', 'toggle', 'deleting', 'restful', 'anchor', 'base64', 'fastest', 'exit', 'templates', 'days', 'giving', 'webview', 'fixed', 'deploy', 'v3', 'go', 'nil', 'axis', 'nhibernate', 'digits', 'moving', '500', 'vb', 'proper', 'osx', 'enter', 'settings', 'permission', 'activerecord', 'faster', 'stl', 'ignore', 'casting', 'loops', 'including', 'lock', 'border', 'mysqli', 'pagination', 'sent', 'effect', 's3', 'real', 'username', 'activity', 'caching', 'incorrect', 'declared', 'serial', 'uitableviewcell', 'across', 'invoke', 'safari', 'complete', 'complex', 'comparison', 'increment', 'speed', 'zip', 'multi', 'programatically', 'audio', 'void', 'txt', 'closed', 'keyword', 'center', 'place', 'equal', 'modules', 'scripts', '3d', 'buffer', 'combine', 'singleton', 'express', 'causing', 'mock', 'letter', 'break', 'iis', 'integration', 'filtering', 'routing', 'repository', 'inner', 'letters', 'mvvm', 'bundle', 'whole', 'heap', 'ie8', 'uploaded', '2008', 'crash', 'winform', 'ant', 'extra', 'receive', 'identifier', 'bit', 'substring', 'poi', 'ftp', 'success', 'amazon', 'blob', 'require', 'following', 'series', 'entry', 'self', 'src', 'deserialize', 'pip', 'leak', 'macro', 'isnt', 'smtp', 'free', 'shows', 'browsers', 'communication', 'flash', 'camera', 'extracting', 'primary', 'solution', 'share', '2012', 'storage', 'failure', 'around', 'dependencies', 'tableview', 'controllers', 'generator', 'rake', 'secure', 'iterator', 'cocoa', 'marker', 'beautifulsoup', 'failing', 'provider', 'tell', 'area', 'microsoft', 'generics', 'exe', 'listener', 'tutorial', 'divs', 'solve', 'unity', 'itextsharp', 'depending', 'negative', 'cross', 'downloading', 'bool', 'win32', 'parallel', 'scrapy', 'directly', 'recursion', 'datasource', 'decode', 'calculating', 'instances', 'requires', 'understanding', 'anonymous', 'idea', 'slider', 'editor', 'timezone', 'sockets', 'ipad', 'white', 'detecting', 'throw', 'tool', 'parser', 'behavior', 'silverlight', 'ggplot', 'give', 'png', 'non', 'com', 'accept', 'log4j', 'unix', 'jersey', 'throwing', 'waiting', 'iterating', 'webapi', 'compilation', 'similar', 'delay', 'jboss', 'animate', 'reverse', 'appear', '40', 'zoom', 'tuple', 'perform', 'needed', 'applet', 'clause', 'executable', 'children', 'less', 'certificate', 'entire', 'raw', 'typescript', 'installation', 'joomla', 'd3', 'treeview', 'colors', 'illegal', 'rotate', 'uibutton', 'gmail', 'receiving', 'zero', 'optional', 'embed', 'subclass', 'uri', 'matches', 'udp', 'primefaces', 'turn', 'filename', 'references', 'jpanel', 'big', 'extend', 'takes', 'copying', 'practices', 'except', 'classpath', 'gradle', 'tooltip', 'supported', 'desktop', 'crashes', 'unsigned', 'postback', 'ckeditor', 'manually', 'nginx', 'backbonejs', 'drupal', 'searching', 'mvc4', 'connections', 'occurred', 'uiscrollview', 'jvm', 'w', 'datatables', '30', 'duplicates', 'bound', 'oauth', 'prepared', 'commands', 'due', 'processes', 'counting', 'minutes', 'ide', 'ngrepeat', 'mvc3', 'bottom', 'creation', 'collections', 'yii2', 'encryption', 'equals', 'paypal', 'annotations', 'looping', 'profile', 'tasks', 'phpunit', 'sessions', 'job', 'several', 'fit', 'prototype', 'var', 'img', 'production', 'blocks', 'projects', 'comments', 'usercontrol', 'account', 'linking', 'automatic', 'initializing', 'resolved', '32', 'incompatible', 'prompt', 'backbone', 'bitmap', 'present', 'original', 'amount', 'upon', 'increase', 'infinite', 'info', 'textfield', 'exec', 'conditions', 'syntaxerror', 'literal', 'websocket', 'disabled', 'routes', 'crystal', 'nullpointerexception', 'related', 'submitting', 'together', 'fragment', 'debugger', 'uiwebview', 'rvm', 'separated', 'operations', 'ef', 'markers', 'unhandled', 'aspx', 'members', 'places', 'absolute', 'jsonnet', 'common', 'derived', 'behaviour', 'offset', 'onchange', 'encode', 'transparent', 'uses', 'im', 'small', 'step', 'logged', 'uiimageview', 'gets', 'meteor', 'average', 'instantiate', 'association', 'schema', 'hiding', 'exactly', 'paths', 'fail', 'nothing', 'multithreading', 'garbage', 'pop', 'fault', 'ionic', 'storyboard', 'azure', 'posting', 'inputs', 'kendo', 'horizontal', 'displayed', 'xampp', 'highlight', 'sheet', 'b', 'assigning', 'deploying', 'jni', 'sorted', 'validating', 'td', 'encoded', 'd3js', 'chat', 'sign', 'vertical', 'uiimage', 'fine', 'factory', 'resizing', 'much', '100', 'entries', 'builder', '31', 'attributeerror', 'hours', 'normal', 'cron', 'distance', 'helper', 'editing', 'drive', 'actual', '11', 'ids', 'updated', 'live', 'refreshing', 'manager', 'li', 'architecture', 'distinct', 'struts', 'xamarin', 'importerror', 'phpmyadmin', 'deprecated', 'total', 'viewmodel', 'efficiently', 'bug', 'keeping', 'concatenate', '_post', 'three', 'transfer', 'printf', 'pairs', 'splitting', 'woocommerce', 'firebase', 'uitextfield', 'made', 'breaks', 'lib', 'release', 'repeater', 'war', 'mockito', 'lazy', 'computer', 'looking', 'params', 'libgdx', 'structs', 'hadoop', 'initial', 'orm', 'anything', 'though', 'world', 'category', 'str', 'reports', 'itext', 'struts2', 'jdk', 'span', 'settimeout', 'encrypt', 'threejs', 'uilabel', 'nsarray', 'constraint', 'dict', 'eval', 'pygame', 'codebehind', 'requested', '81', 'packages', 'analytics', 'components', 'fire', 'redirecting', 'exclude', 'generation', 'never', 'nsmutablearray', 'management', 'actually', 'threading', 'scale', 'httpclient', 'thrown', 'old', 'press', 'referenced', 'devices', 'platform', 'register', 'picture', 'forward', 'started', 'plotting', 'detection', '2013', 'cause', 'rectangle', 'sets', 'socketio', 'g++', 'extending', 'approach', 'circle', 'newline', 'pressed', 'sound', 'converted', 'multiprocessing', 'details', 'home', 'xmlhttprequest', 'stdstring', 'scraping', 'feed', 'segmentation', 'unrecognized', 'skip', 'sub', 'symbols', 'plain', 'frames', 'slide', 'final', 'readonly', 'ignoring', 'paperclip', 'zone', 'histogram', 'pycharm', 'round', 'cmake', 'dimensional', 'folders', 'cancel', 'really', 'done', 'charts', 'cpu', 'versions', 'picker', 'await', 'floating', 'refused', 'phpexcel', 'interfaces', 'shiny', 'ways', 'easiest', 'inject', 'ie9', 'groups', 'got', 'weird', 'destroy', 'media', 'mfc', 'colour', 'functionality', 'initialized', 'migration', 'populating', 'permissions', 'uiviewcontroller', 'least', 'tools', 'included', '64bit', 'min', 'reduce', 'spark', 'vectors', 'violation', 'rename', 'please', 'verify', 'restrict', 'gson', 'transition', 'rgb', 'digit', 'dictionaries', 'knockout', 'mp3', 'listt', 'expects', 'layer', 'wrapper', 'clients', 'swt', 'taking', 'occurrences', 'malloc', 'according', 'dot', 'aws', 'wrap', 'hyperlink', 'overlay', 'patterns', 'disabling', 'runs', 'eloquent', 'overloading', 'odd', '9', 'written', 'may', 'easy', 'none', 'explicit', 'beans', 'differences', 'pause', 'ienumerable', 'makefile', 'extensions', '35', '64', 'learn', 'jstl', 'nsdictionary', 'randomly', 'uninitialized', 'brackets', 'pyqt', 'wsdl', 'confirm', 'hour', 'appconfig', 'jenkins', 'received', 'also', 'reason', 'closure', 'posts', 'scanner', 'everything', 'front', 'photo', 'signalr', 'git', 'rather', 'math', 'recursively', 'doc', 'locale', 'inserted', 'ok', 'exact', 'high', 'phpmailer', 'saved', 'known', 'week', 'counter', 'registry', 'signal', 'precision', 'learning', 'appending', 'uicollectionview', 'identity', 'happens', 'documents', 'preg_match', 'calculation', 'unsupported', 'iteration', 'pythons', 'webconfig', 'deployment', 'c++11', 'restart', 'chartjs', 'prefix', 'additional', 'lost', 'align', 'referenceerror', 'master', 'padding', 'glassfish', 'inherited', 'chars', 'feature', 'logic', 'comment', 'localstorage', 'textboxes', 'lookup', 'valueerror', 'cordova', 'tensorflow', 'pil', 'fancybox', 'postgres', 'square', 'beginning', 'underscore', 'thumbnail', 'enums', 'emails', 'sharing', 'optimize', '27', 'ldap', 'transform', 'implicit', 'constants', 'pool', 'jsoup', 'makes', 'nonobject', 'online', 'merging', 'arduino', 'submission', 'terminal', 'percentage', 'manytomany', 'rewrite', 'concurrent', 'p', 'obtain', 'updates', 'arc', 'unresolved', 'simulate', 'completely', 'bash', 'fetching', 'purpose', 'graphics', 'clean', 'pure', 'uitextview', 'direct', 'javalangnoclassdeffounderror', 'dojo', 'combo', 'md5', 'innerhtml', 'constraints', 'init', 'legend', 'sample', 'explain', 'signature', 'greater', 'kernel', 'rules', 'sqlite3', 'rotation', 'queryset', 'scanf', 'pixel', 'mismatch', 'exporting', 'polygon', '24', 'eg', 'figure', 'confusion', 'reloading', 'dd', 'fade', 'modified', 'mouseover', 'upgrade', 'linker', 'identify', 'moq', 'launch', 'naming', 'deserializing', 'mm', 'connected', 'protected', 'orientation', 'hello', 'locate', 'short', 'startup', 'nokogiri', 'subset', 'notifications', 'parts', 'openssl', 'interop', 'black', 'declaring', 'track', 'streaming', 'cli', 'grouping', 'well', 'preg_replace', 'longitude', 'latitude', 'adapter', 'bin', 'combining', 'executed', 'customize', 'plus', '16', 'operators', 'either', 'coding', 'contact', 'notation', 'xsd', 'compiled', 'ready', 'pair', 'jasmine', 'richtextbox', 'theme', 'opencart', 'assets', 'individual', 'multithreaded', 'general', 'footer', 'modifying', 'wamp', 'relation', 'deserialization', 'nunit', 'stdout', 'versus', 'includes', 'player', 'managed', 'confirmation', 'setinterval', 'oop', 'multiline', 'hashes', 'bluetooth', 'products', 'lxml', 'price', 'integrate', 'calculator', 'clicks', 'documentation', 'howto', 'actions', 'manage', 'couldnt', 'broken', 'transactions', 'allocated', 'editable', 'finished', 'httpwebrequest', 'hangs', 'cart', 'backend', 'milliseconds', 'stdin', 'namespaces', 'resultset', 'yyyy', 'json_encode', 'ee', 'mono', 'recognized', 'attachment', 'observable', 'rule', 'criteria', 'formatted', 'inputstream', 'matlab', 'whitespace', 'boxes', 'plots', 'occurrence', 'circular', 'threadsafe', 'preview', 'loads', 'switching', 'simulator', 'opened', 'highlighting', 'understand', 'wxpython', 'serializing', 'implicitly', 'gdb', 'jaxrs', 'scrollbar', 'allocation', 'finish', 'screenshot', 'querystring', 'putting', 'provide', 'subprocess', 'enabled', 'ejb', 'nsdata', 'constructors', 'databases', 'look', 'cucumber', 'phps', 'reactjs', 'setter', 'jpeg', 'groovy', 'associative', 'examples', 'completion', 'spreadsheet', 'resolution', 'longer', 'along', 'outlook', 'cors', 'fullcalendar', 'jpg', 'defining', 'multipart', 'developer', 'choose', 'capistrano', 'callbacks', 'initializer', 'knockoutjs', 'datatype', 'slash', 'bounds', 'linear', 'positive', 'invoking', 'scala', 'querying', 'swipe', 'multiply', 'shape', 'elegant', 'implemented', 'arbitrary', 'promise', 'simplexml', 'cloud', 'emberjs', 'databinding', 'triggered', 'latest', 'arrow', 'disk', 'detected', 'currently', 'seems', 'jbutton', 'fired', 'mongoose', 'mingw', 'trailing', 'usb', 'composer', 'servers', 'decrypt', 'third', 'utc', 'hook', 'meaning', 'metro', 'manipulation', 'super', 'twig', 'seem', 'metadata', 'outer', 'sure', 'c#net', 'ssh', 'capybara', 'pixels', 'party', 'rsa', 'fork', '45', 'frameworks', 'nsdate', 'jtextfield', 'textview', 'yes', 'separator', 'jaxws', 'onload', 'relationships', 'replacement', 'clickable', 'asynchronously', 'tinymce', 'videos', 'needs', 'union', '17', '51', 'br', 'aggregate', 'monitor', 'pack', '50', 'liststring', 'bindings', 'aes', 'validator', 'specifying', 'vaadin', 'raise', 'hashtable', 'mark', 'wrapping', 'appears', 'backgroundworker', 'openmp', 'simplest', 'coffeescript', 'gems', 'pipe', 'recognize', 'registration', 'logger', 'adonet', 'paste', 'catching', '#', 'attach', 'country', 'viewcontroller', 'built', 'celery', 'playing', 'dataframes', 'preserve', 'jlabel', 'nameerror', 'structures', 'card', 'lucene', 'overflow', 'redis', 'clipboard', 'preprocessor', 'filling', 'rid', 'months', 'toolbar', 'sometimes', 'collision', 'automapper', 'wicket', 'applied', 'referencing', 'xaxis', 'realtime', 'tuples', 'scipy', 'carousel', 'passenger', 'optimization', 'entered', 'callable', 'crm', 'mongoid', 'nan', 'going', 'stuck', 'rmi', 'codes', 'segue', 'expand', 'stopped', 'escaping', 'successful', 'developing', '15', 'preventing', 'region', 'mocking', 'alphanumeric', 'reader', '13', 'dealing', 'pc', 'requirejs', 'groupby', 'regexp', 'persist', 'tostring', 'powershell', 'slower', 'ffmpeg', '25', 'adjust', 'notice', 'zf2', 'jinja2', 'leading', 'maintain', 'indexes', 'objc', 'locking', 'continue', 'onetomany', 'anyone', 'io', 'camel', 'software', 'leaflet', 'exchange', 'interval', 'comprehension', 'mssql', 'expecting', 'imageview', 'odbc', 'destructor', 'description', 'has_many', 'synchronous', 'devexpress', 'ordering', '12', 'repeat', 'overload', 'ensure', 'primitive', 'head', 'triangle', 'necessary', 'mongo', 'websphere', 'builtin', 'middle', 'smooth', 'styles', 'serverside', 'immediately', 'subtract', 'minimum', 'redirection', 'angular2', 'sinatra', 'serializable', 'es6', 'logout', 'wildcard', 'dependent', 'sms', 'alternatives', 'interactive', 'widgets', 'weblogic', 'quote', 'filters', 'applying', 'css3', 'follow', 'csrf', 'accessible', 'listen', 'strip', 'pull', 'payment', 'allocate', 'hosting', 'scan', 'webclient', 'bars', 'vertically', 'questions', 'clone', 'categories', 'ul', 'delegates', 'overwrite', 'ignored', 'indices', 'avoiding', 'tornado', 'casperjs', 'suitable', '2015', 'lowercase', 'repeating', 'polymorphism', 'realm', 'ie7', 'losing', 'ints', 'construct', 'mask', 'compatible', 'terminate', 'alias', 'locally', 'expressjs', 'javalangnullpointerexception', 'cxf', 'authorization', 'nonstatic', 'smaller', 'perl', 'pie', 'uinavigationcontroller', 'styling', 'deep', 'crashing', 'reporting', 'crop', 'hexadecimal', 'cuda', 'directories', 'updatepanel', 'rss', 'consecutive', 'delimited', 'apple', 'beginner', 'starts', 'crud', 'auth', 'someone', 'websites', 'manifest', 'decryption', 'sencha', 'completed', 'credentials', 'emulator', 'emacs', 'hql', 'performing', 'servlets', 'accordion', 'universal', 'ad', 'aborted', 'divide', 'enabling', 'handlers', 'e', '14', 'rendered', 'clientside', 'kill', 'errno', 'associated', 'nonetype', 'configuring', 'tracking', 'regression', 'observablecollection', '2005', 'converter', 'exceeded', 'timed', '403', 'explanation', 'dplyr', 'decoding', 'operand', 'measure', 'fly', 'printer', 'cut', 'log4net', 'ror', 'translate', 'larger', 'dimension', 'breaking', 'registered', 'ambiguous', 'extends', 'haml', 'plugins', 'slice', 'windowopen', 'tutorials', 'jre', 'caused', 'readable', 'sprite', 'testng', 'currency', 'duration', 'xdocument', 'collapse', 'placeholder', 'xlsx', 'later', 'excluding', 'dimensions', 'imported', 'stdvector', 'virtualenv', 'jms', 'flag', 'clang', 'subview', 'keyvalue', 'choice', 'tr', 'superclass', 'continuous', 'says', 'standalone', 'role', 'coordinate', 'repeated', 'navigate', 'displays', 'produce', 'carrierwave', 'advantages', 'warnings', 'underlying', 'addresses', 'cmd', 'strategy', 'respond', 'rotating', 'huge', 'fullscreen', 'lua', 'usr', 'hierarchy', 'corresponding', 'assigned', 'asset', 'compute', 'memcached', 'seed', 'ndk', 'worker', 'unity3d', 'trace', 'reuse', 'h', 'gallery', 'autolayout', 'twisted', 'occurs', 'appearing', '3rd', 'authenticated', 'javalangclassnotfoundexception', 'attempting', 'shift', 'guava', '53', 'extended', 'ipython', 'triggering', 'grouped', 'cms', 'creator', 'jfreechart', 'older', 'grab', 'commas', 'mutex', 'quickly', 'others', 'zeros', 'rounding', '#define', 'jndi', 'sentence', 'deal', 'multiplication', 'signed', 'enough', 'clearing', 'visibility', 'xslt', 'representation', 'retain', 'consuming', 'origin', '400', '52', 'beautiful', 'activeadmin', 'blocked', 'mootools', 'formula', 'bulk', 'contained', 'viewer', 'horizontally', 'progressbar', 'icons', 'lodash', 'asynctask', 'uipickerview', 'spinner', 'explicitly', '_get', 'largest', 'texture', 'hostname', 'capturing', 'apis', 'shown', 'closest', 'alignment', 'immutable', 'uialertview', 'phpini', 'plist', 'cygwin', 'orderby', 'pythonic', 'joda', 'v', 'meta', 'foo', 'vim', 'priority', 'quick', 'blocking', 'encrypted', 'floats', 'modelform', 'netty', 'edittext', 'idle', 'regarding', 'pymongo', 'determining', '54', 'parentheses', 'provided', 'instagram', 'paragraph', 'polymer', 'mixed', 'persistent', 'friends', 'ce', 'protractor', 'router', 'mechanize', 'attempt', 'landscape', 'come', 'insertion', 'chain', 'swap', 'domains', 'flow', 'javalangstring', 'frequency', 'webpack', 'synchronization', 'link_to', 'keypress', 'manipulate', '32bit', 'getter', 'nsuserdefaults', 'elasticsearch', 'param', 'designer', 'subdomain', 'bundler', 'conditionally', 'tick', 'simultaneously', 'springboot', 'various', 'history', 'away', 'programs', 'inherit', 'mime', 'endpoint', 'xib', 'distribution', 'ordered', 'period', '1000', '41', '2011', 'positioning', 'javadoc', 'win', 'cgi', 'countdown', 'insensitive', 'flip', 'gulp', 'javas', 'pressing', 'detail', 'compact', 'sqlstate', 'dev', 'streams', 'combinations', 'polymorphic', 'cases', 'file_get_contents', 'xna', 'twodimensional', 'multiselect', 'downloaded', 'webapp', 'truncated', 'serve', 'refer', 'evaluate', 'htmlagilitypack', 'codeblocks', 'shortcut', 'installer', 'photos', 'sync', '200', 'temporary', 'arithmetic', 'appengine', 'handled', 'firebug', 'linkedlist', 'knowing', 'keeps', 'picturebox', 'jars', 'unchecked', 'leaks', 'rstudio', 'decimals', 'watch', 'combination', 'let', 'pivot', 'ios7', 'synchronized', 'jasper', 'checkout', '21', 'momentjs', 'jsonparse', 'classnotfoundexception', 'ember', 'safety', 'vs2010', 'odata', 'sources', 'mapped', 'intellisense', 'allowing', 'frontend', 'tried', 'imap', 'menus', 'implements', 'boostasio', 'linkedin', 'commit', 'pyqt4', 'dlls', 'composite', 'formats', 'jsonp', 'edge', 'bold', 'paging', 'elastic', 'gzip', 'creates', 'communicate', 'workbook', 'draggable', 'phantomjs', 'ends', 'dump', 'integrating', 'independent', 'stops', 'disappear', 'ifelse', 'light', 'codec', 'obj', 'sensitive', 'vm', 'navbar', 'thumbnails', 'levels', 'anaconda', 'english', 'intent', 'overloaded', 'differently', 'publish', 'fileupload', 'afnetworking', 'i18n', 'onto', 'indexing', 'uninstall', 'populated', 'parents', 'jade', 'advanced', 'handshake', 'winrt', 'manual', 'successfully', 'grails', 'outputting', 'increasing', 'fluent', 'ratio', '18', 'hashing', 'authenticate', 'python3', 'thing', 'locked', 'accessed', 'globally', 'animations', 'jsonobject', 'jsonarray', 'pthread', 'functional', 'cython', 'channel', 'gps', 'longest', 'embedding', 'directives', 'nearest', 'opens', 'preparedstatement', 'concatenation', 'identical', 'webkit', 'listeners', 'resharper', 'posted', 'supports', 'macros', 'power', 'consume', 'hard', 'assertion', 'cluster', 'graphs', 'features', 'limited', 'deadlock', 'recommended', 'enumeration', 'nomethoderror', 'jump', 'redirects', 'cpp', 'thymeleaf', 'kivy', 'cocos2d', 'markdown', 'scrollview', 'guid', 'containers', 'maintaining', 'factor', 'soup', 'urllib2', 'rounded', 'roles', 'delimiter', 'bits', 'javasqlsqlexception', 'alamofire', 'djangos', 'configured', 'localization', 'appropriate', 'lion', 'nullable', 'webinf', 'iso', 'unavailable', 'forbidden', 'nth', 'uwp', 'select2', 'customizing', 'v2', 'lower', 'ascending', 'incomplete', 'concurrency', 'imagemagick', 'el', 'typed', 'serving', 'sprintf', 'hosted', 'invocation', 'backup', 'uppercase', 'alphabetically', 'collect', 'memcache', 'schedule', 'customer', 'trim', 'compress', 'shadow', 'represent', 'gd', 'might', 'responsive', 'unused', 'arent', 'sleep', 'rails3', 'alpha', 'raphael', 'attached', '22', 'fires', 'sublime', 'threaded', 'yet', 'preserving', 'mat', 'fully', 'entering', 'belongs_to', 'improve', 'eof', 'retrieved', 'supplied', 'persistence', 'begin', 'people', 'smallest', 'joins', 'versa', 'mailer', 'greasemonkey', 'forcing', 'solr', 'dragging', 'igniter', 'leave', 'friendly', 'scene', 'guice', 'mapreduce', 'temporarily', 'unmanaged', 'invoked', 'renaming', 'xp', 'suppress', 'trycatch', 'x64', '_server', 'agility', 'joining', 'gcm', 'lightweight', 'concatenating', 'turning', 'slideshow', 'subclassing', 'tokens', 'matrices', 'entityframework', 'locations', 'foundation', 'mkmapview', 'websockets', 'vc++', 'docker', 'messagebox', 'cs', 'imports', 'sections', 'listing', 'scrape', 'multithread', 'fragments', 'mq', 'linqtosql', 'unittest', 'wall', 'launching', 'javamail', 'bubble', 'yyyymmdd', 'mysqldb', 'consolelog', 'ienumerablet', 'stdmap', 'margin', 'textblock', 'injecting', 'rate', 'sizes', 'notify', 'prime', 'producing', 'clock', 'iterators', 'jquerys', 'jetty', 'std', 'unauthorized', 'conflict', 'nltk', 'github', 'formdata', 'fabricjs', 'hierarchical', 'vice', 'keydown', 'classname', 'vuejs', 'bitwise', 'resume', 'pipeline', 'commandline', 'httpurlconnection', 'webgl', 'near', 'indexof', 'centos', 'session_start', 'flatten', 'allows', 'choices', 'grunt', 'unexpectedly', 'pyspark', 'positions', 'monitoring', 'recaptcha', 'gateway', 'decorator', 'aspect', 'minute', 'iframes', 'webrtc', 'complexity', 'depth', 'redux', 'uploads', 'bufferedreader', 'oledb', 'despite', 'layers', 'coredata', 'deployed', 'autofac', 'underscorejs', 'xxx', 'panels', 'deleted', 'logs', 'prepare', 'stay', 'optimizing', 'uncheck', 'yaxis', 'migrating', 'listening', 'didnt', 'npm', 'shapes', 'dispatcher', 'gc', 'kind', 'safely', 'documentgetelementbyid', 'retrofit', 'accesscontrolalloworigin', 'yaml', 'threadpool', 'interview', '61', 'mod_rewrite', 'serialized', 'limits', 'terminating', 'getelementbyid', 'limiting', 'subfolder', 'computers', 'sites', 'pooling', 'hold', 'upgrading', 'javascripts', 'barplot', 'gesture', 'qml', 'computing', 'mixing', 'gradient', 'means', 'confused', 'angle', 'crossplatform', 'httppost', 'webservices', 'accepting', '33', 'val', 'low', 'javautildate', 'coming', 'wp7', 'ec2', 'blur', 'automation', 'effects', 'asmx', 'evaluating', 'scalar', 'lots', 'caught', 'compatibility', 'xss', 'undeclared', 'jobs', 'convention', 'automated', 'instantiated', 'descending', 'overlapping', 'leaving', 'liferay', 'achieve', 'ngclick', 'beanstalk', 'eager', 'persisting', 'interpreter', 'zooming', 'subviews', 'crawler', 'rdlc', 'office', 'swf', 'javalangoutofmemoryerror', 'quartz', 'generates', '2007', 'clickonce', 'volume', 'highest', 'spacing', 'city', 'tap', 'stacked', 'webserver', 'serializer', 'closes', 'ending', 'languages', 'encountered', 'escaped', 'ports', 'delphi', 'doubles', 'winapi', 'httpget', 'stopping', 'higher', 'diff', 'drawn', 'reached', 'passwords', 'nullreferenceexception', 'indentation', 'fb', 'instantiation', '401', 'pomxml', 'rich', '2x', 'registering', 'advice', 'stylesheet', 'payload', 'rollback', 'surface', 'ref', 'packets', 'scheduler', 'cached', 'z', 'loader', 'animating', 'getjson', 'whose', 'clr', 'radiobutton', 'pm', 'stringformat', 'ranges', 'msbuild', 'direction', 'material', 'ever', 'reorder', 'modifier', 'book', 'logical', 'star', 'since', 'queues', 'encrypting', 'business', 'scatter', 'closures', 'years', 'directx', 'wmi', 'finally', 'colon', 'typing', 'onmouseover', 'builds', 'jscrollpane', 'spec', 'backing', 'procedures', 'corrupted', 'till', 'gif', 'develop', 'scheduled', 'recognition', 'ternary', 'indexphp', '2nd', '60', 'actionlistener', 'nilnilclass', 'pointing', 'bypass', 'broadcast', 'recent', 'terminated', 'easily', 'scripting', '193', 'ie11', 'databound', 'choosing', 'datacontext', 'elapsed', 'filled', '34', 'javalangillegalstateexception', 'hit', 'dns', 'processed', 'indent', 'ibm', 'followed', 'svn', 'resizable', 'karma', 'fonts', 'hang', 'goes', 'paint', '23', 'dismiss', 'dash', 'braces', 'workaround', 'entitymanager', 'peer', 'beta', 'stand', 'databind', 'classic', 'alive', 'membership', 'pthreads', 'smarty', 'addition', 'dbcontext', 'newlines', 'hbase', 'dots', 'expire', 'sliding', 'indicator', 'gae', 'archive', 'nstimer', 'animated', 'opacity', 'foreignkey', 'keywords', 'restore', 'jython', 'jumping', 'subscript', 'benefits', 'parsed', 'freezes', 'incoming', 'division', 'four', 'freeze', 'xls', 'equation', 'bring', 'minus', 'phpfpm', 'thats', 'managepy', 'ipn', 'quiz', 'handlebars', 'shutdown', 'clustering', 'translation', 'browse', 'future', 'asio', 'preferred', 'telerik', 'gtk', '#include', 'cons', 'calculations', 'vba', 'ssis', 'literals', '1st', 'certificates', 'destination', 'javalangillegalargumentexception', 'duplicated', 'responses', 't_string', 'efficiency', 'stringbuilder', 'recommend', 'submitted', 'statistics', 'springmvc', 'xamarinforms', 'ilist', 'cloning', 'hitting', 'cocoapods', 'ff', 'iis7', 'stripe', '26', 'quit', 'axes', 'guide', 'specifier', 'applicable', 'considered', 'newly', 'removed', 'scheme', 'g', 'specifically', 'responding', 'sequences', 'tls', 'sessionfactory', 'jqueryajax', 'mod_wsgi', 'jqueryui', 'sass', 'infowindow', 'synchronize', 'today', 'valgrind', 'runnable', 'score', 'answer', 'webmethod', 'disappears', 'na', 'formatter', 'wildcards', '000', 'protect', 'explode', 'useful', 'incrementing', 'truncate', 'writer', 'selectors', 'loaderror', 'utility', 'steps', 'equality', 'states', '302', '1d', 'training', 'toolkit', 'protobuf', 'dropbox', 'openlayers', 'happen', 'attr', 'pushing', 'dialogs', 'consumer', 'coverage', 'migrate', 'alphabetical', 'powerpoint', 'human', 'marks', 'org', 'mocha', 'shopping', 'conventions', 'owin', 'triggers', 'ngmodel', 'intersection', 'parameterized', 'servicestack', 'reasons', 'sonar', '80', 'nio', 'sheets', 'automate', 'foreground', 'classloader', 'charset', 'portable', 'exited', 'scrollable', 'degrees', 'manipulating', 'db2', 'scopes', 'descriptor', 'datatemplate', 'geolocation', '55', 'bracket', 'ive', 'ago', 'designing', 'classs', 'doctrine2', 'assert', 'initializers', 'modification', 'abort', 'incorrectly', 'scikitlearn', 'reliable', 'ext', 'controlling', 'doxygen', 'modern', 'verification', 'kafka', 'mpmovieplayercontroller', 'associations', 'marked', 'wifi', 'mvc5', 'overwriting', 'cipher', 'pipes', 'fscanf', 'kit', 'benefit', 'packet', 'arabic', 'writes', 'evaluation', 'ask', 'occured', 'weeks', 'filenames', 'customized', 'continuously', 'recognizing', 'produces', 'underscores', 'gone', 'manytoone', 'uitableviewcells', 'magic', 'typefile', 'artifact', '43', 'connector', 'h2', 'acceptable', 'stretch', 'matched', 'corners', 'appended', 'datetimepicker', 'es', 'restkit', 'interpreted', 'anchors', 'mpi', 'segment', 'bucket', 'scenario', 'memorystream', 'uirouter', 'downloads', 'dispose', 'dollar', 'desired', 'datastore', 'remotely', 'conflicting', 'social', 'unless', 'json_decode', 'masterpage', 'umbraco', 'traversal', 'mysql_fetch_array', 'music', 'pictures', 'sparse', 'physical', 'concat', 'javaioioexception', 'javalangclasscastexception', 'apostrophe', 'avplayer', '3x', 'disadvantages', 'axis2', 'maximize', 'suite', 'parsecom', 'linkbutton', 'worksheet', 'tmp', 'interpolation', 'xelement', 'placed', 'pojo', 'promises', 'printed', '_', 'mp4', 'hive', 'looks', 'red', 'flush', 'tail', 'semicolon', 'little', 'us', 'webforms', 'newbie', 'reusing', 'offline', 'php5', 'zindex', 'inserts', 'pulling', 'f', 'pros', 'chaining', 'indexhtml', 'effective', 'wildfly', 'lat', 'k', 'highchart', 'localized', 'typedef', 'respect', 'inheriting', 'grey', 'segfault', 'definitions', 'sender', 'percent', 'xmlserializer', 'calayer', 'noclassdeffounderror', '405', 'py', 'varchar', 'comes', 'summary', 'autowired', 'intercept', 'dealloc', 'simple_form', 'electron', 'slashes', 'isset', 'suddenly', 'wrapped', 'visualization', 'radius', 'interrupt', 'annotated', 'j2me', 'analysis', 'gdi+', 'located', 'expired', 'listobject', 'unload', 'xsl', '_session', 'pyside', 'epoch', 'executes', 'keyup', 'interaction', 'nsurlconnection', 'phpstorm', 'compilers', 'corner', 'proguard', 'upper', '42', 'multilevel', 'helpers', 'rand', 'remember', 'conflicts', 'pydev', 'decrypting', 'alternate', 'uisearchbar', 'indexed', 'advantage', 'managing', 'arraylists', 'accuracy', 'resolving', 'knitr', 'unwanted', 'slicing', 'suggestions', 'bot', 'past', 'declarations', 'mysql_query', 'thousand', 'invisible', 'overrides', 'pin', 'unicodeencodeerror', 'extern', 'traffic', '2003', 'compression', 'suffix', 'strict', 'seperate', 'ones', 'systems', 'instantiating', 'openerp', 'obtaining', 'algorithms', 'implementations', 'actionscript', 'apk', 'subprocesspopen', 'movement', 'permutations', 'uploader', 'ioexception', 'hhmmss', 'degree', 'representing', 'vs2012', 'tile', 'term', 'spritekit', 'messaging', 'x86_64', 'fadein', 'nsinvalidargumentexception', 'sized', 'contenttype', 'redirected', 'anyway', 'flat', 'migrations', '19', 'rewriting', 'chinese', 'visitors', 'googles', 'windowlocation', 'unordered', 'quality', 'integrity', 'msvc', 'textfile', 'tips', 'seen', 'solutions', 'scrolled', 'transformation', 'traverse', 'integral', 'sidebar', 'existence', 'aligned', 'javac', 'seo', 'mass', 'nesting', 'xmlreader', 'movie', 'hy000', 'activex', 'rolling', 'imagefield', 'overlap', 'geocoding', 'jmeter', 'caller', 'salesforce', 'todays', 'cycle', 'timeline', 'j2ee', 'gmt', 'ansi', 'crossdomain', 'assemblies', 'crossbrowser', 'rabbitmq', 'ticks', 'minimize', 'curve', 'popover', '__init__', 'timestamps', 'restarting', 'japanese', 'yield', 'profiling', 'processstart', 'previously', 'exercise', 'redraw', 'density', 'hdfs', 'prestashop', 'released', 'fopen', 'uinavigationbar', 'oriented', 'expose', 'contexts', 'pick', 'techniques', 'tabbar', 'activation', '_files', 'overhead', 'establish', 'mdb', 'subdomains', 'specification', 'simply', 'erase', 'pom', 'focused', 'backslash', 'construction', 'unicodedecodeerror', 'refactoring', 'ignores', 'transient', 'threw', 'posix', 'computed', 'chunk', 'mamp', 'activemq', 'remaining', 'internally', 'mix', 'malformed', 'beyond', 'operands', 'vs2008', 'resized', 'curly', 'splash', 'iqueryable', 'boundary', 'rectangles', 'connectionstring', 'secret', 'constantly', 'highlighted', 'dynamodb', 'vagrant', 'numerical', 'workflow', 'transparency', 'things', 'subfolders', 'jodatime', 'samples', 'associate', 'aka', 'varying', 'policy', 'dirty', 'credit', 'djangorestframework', 'presence', 'availability', 'dao', 'stub', 'outofmemoryerror', 'collector', 'subplots', 'intended', 'combined', 'hyphen', 'handles', 'ssrs', 'nib', 'uiimagepickercontroller', 'alphabet', 'wp8', 'jasperreports', 'digital', 'facet', 'retry', 'randomize', 'debian', 'mechanism', 'osgi', 'selects', 'jscript', 'javalangnosuchmethoderror', 'ios5', 'argumenterror', 'taskbar', 'cake', 'nonblocking', 'textures', 'webcam', 'volley', 'gb', 'autowire', 'sqlcommand', 'demo', 'openshift', 'flags', 'processor', 'neural', 'sends', 'markup', 'sdl', 'mathematical', 'welcome', 'anyobject', 'polyline', 'nspredicate', 'placement', 'think', 'writable', 'wav', 'transport', 'periodically', 'edition', 'loses', 'signals', 'observe', 'punctuation', 'x86', 'mapkit', 'xhtml', 'navigating', 'lambdas', 'predefined', 'hanging', 'int32', 'borders', 'expensive', 'resetting', 'requiring', 'forever', 'simultaneous', 'predicate', 'forloop', 'raising', 'scientific', 'carriage', 'vbscript', 'factorygirl', 'girl', 'flexible', 'stdset', 'ocr', 'preference', 'overridden', 'inconsistent', 'substrings', 'paper', 'args', 'bidirectional', 'onetoone', 'storyboards', 'docx', 'opencl', 'env', 'culture', 'optimized', 'transactional', 'itemssource', 'supporting', 'ninject', 'accurate', 'vsto', 'viewport', 'separately', 'recording', 'imshow', 'systemstring', 'supposed', 'correlation', 'scaling', 'threadsleep', 'regardless', 'natural', 'diagonal', 'gstreamer', 'perfect', 'releasing', 'sequential', 'admob', 'loss', 'official', 'trap', 'svm', 'marshal', 'disconnect', 'finishes', 'sailsjs', 'uicollectionviewcell', 'contenteditable', 'tooltips', 'arm', 'homepage', 'frequent', 'timespan', 'readline', 'pdoexception', 'javanetsocketexception', 'portion', 'rank', '90', 'feeds', 'pre', 'legacy', 'viewbag', 'reversing', 'pi', 'pad', 'vertex', 'qstring', 'xmpp', 'leaves', 'nuget', 'unset', 'emulate', 'solved', 'unsafe', 'grayscale', 'thousands', 'eclipselink', 'wants', 'redirect_to', 'contextmenu', 'homebrew', 'hovering', 'subtracting', 'gemfile', 'xhr', 'ci', 'cassandra', 'deletion', 'enclosing', 'ef6', 'asking', 'datarow', 'targets', 'although', 'mod', 'checkboxlist', 'setters', 'hresult', 'hides', 'ioc', 'sortable', 'layouts', 'compared', 'systemnullreferenceexception', 'atomic', 'webpages', 'hardware', 'requirements', 'effectively', 'scrollbars', 'partially', 'se', 'awt', 'downgrade', 'serialport', 'dictionarystring', 'chunks', 'jsonstringify', 'guessing', 'drawer', 'az', 'breakpoints', 'pid', 'mappings', 'reducing', 'freed', 'cin', 'ld', 'richfaces', 'calculated', 'significant', 'jwt', 'polling', 'alertdialog', 'subdirectory', 'amounts', 'breakpoint', 'subquery', 'tweet', 'ideas', 'configurable', 'hashcode', 'presses', 'viewing', 'board', 'classcastexception', 'asterisk', 'dbmigrate', 'arrows', 'chosen', 'delimiters', 'exc_bad_access', 'xmlelement', 'nonascii', 'holding', 'datalist', 'placeholders', 'sequentially', 'middleware', 'notepad++', 'preferences', 'webform', 'unbind', 'attack', 'alone', 'taken', 'possibly', 'depends', 'simulation', 'ampersand', 'mb', 'attaching', 'marshalling', 'dispatch', 'driven', 'subclasses', 'album', 'wxwidgets', 'raphaeljs', 'ram', 'adobe', 'unserialize', 'translating', 'cards', 'age', '128', 'xy', 'sqlexception', 'news', 'addin', 'pdfs', 'neither', 'uitableviewcontroller', 'categorical', 'windowprint', 'contacts', 'workspace', 'speech', 'raised', '2dimensional', 'mainwindow', 'cocos2dx', 'accepts', 'transpose', 'hack', 'ddmmyyyy', 'getters', 'doubly', 'subdirectories', 'rejected', 'indexerror', 'httpservletrequest', 'happening', 'chromedriver', 'producer', 'accepted', 'occur', 'amp', 'friend', 'thirdparty', 'linearlayout', 'lvalue', 'disposed', 'mysql_connect', 'snake', 'nsobject', 'copied', 'captured', 'locks', 'outputs', 'blog', 'factors', 'colored', 'itemtemplate', 'crossorigin', 'sizeof', 'glsl', 'interact', 'pthread_create', 'expanding', 'inflating', 'bat', '09', 'tpl', 'wizard', 'adds', 'weak', 'asm', '#2', 'recyclerview', 'turned', 'logon', 'separating', 'outputstream', 'stanford', 'reactnative', 'userdefined', 'meteorjs', 'childs', 'lang', 'administrator', 'invalidate', 'fallback', 'windsor', 'flasksqlalchemy', 'anymore', 'clojure', 'license', 'circles', 'sense', 'spider', 'func', 'decrement', 'operating', 'shortest', 'reply', 'opensource', 'cout', 'timeseries', 'outline', 'sunday', 'flex', 'consumption', 'aop', 'directions', 'submenu', 'annotate', 'subject', 'reflect', 'observer', 'pending', 't_variable', 'concept', 'mutable', 'pyplot', 'elementwise', '256', 'disappearing', 'ppt', 'sqlconnection', 'docs', 'scrolltop', 'identifying', 'subscribe', 'fake', 'rubygems', 'remain', 'multiplying', 'iterable', 'actively', 'filtered', 'qtcreator', 'cpanel', 'greek', 'mysqli_query', 'lose', 'activities', 'filesystem', 'latex', 'margins', 'payments', 'expect', 'act', 'stackoverflow', 'underline', 'vnext', 'removal', 'prev', 'titles', 'suspend', 'wp', 'nsdateformatter', 'validations', 'alter', 'templated', 'pretty', 'smoothly', 'environments', 'swagger', 'usable', 'emit', 'ipaddress', 'collectionview', 'stock', 'discrete', 'daemon', 'httpresponse', 'drawrect', 'leopard', '192', 'hot', 'findall', 'platforms', '1204', 'affect', 'activate', 'shouldnt', 'relational', 'immediate', 'nonzero', 'masked', 'windowonload', 'mysql2', 'argv', 'nice', 'buffers', 'soft', 'receiver', 'onclicklistener', 'stringsplit', 'addeventlistener', 'dynamics', 'j', 'parenthesis', 'displaynone', 'terms', 'theano', 'oauth2', 'shell_exec', 'ipv6', 'attempts', 'badge', 'among', 'disconnected', 'constructed', 'slug', 'avaudioplayer', '70', 'exposing', 'cost', '36', 'subtraction', 'involving', 'parameterless', 'contentlength', 'digest', 'require_once', 'shorter', 'resulting', 'barcode', '05', 'person', '502', 'forwarding', 'temperature', 'stdclass', 'meant', 'edited', 'allocating', 'submits', 'ear', 'improving', 'viewpager', 'reach', 'flickering', 'specialization', 'nonempty', 'versioning', 'strcpy', 'impossible', 'corrupt', 'apache2', 'prototypes', 'toggling', 'scanning', 'rubys', 'enumerate', 'raspberry', 'dropping', 'oserror', 'didselectrowatindexpath', 'placing', 'clob', 'repo', 'newer', 'hyperlinks', 'rotated', 'turns', 'figures', 'unbound', 'skipping', 'yesterday', 'getelementsbyclassname', 'intervals', 'stamp', 'limitations', 'grabbing', 'cascade', 'rect', 'snap', 'sys', 'deviation', 'comparator', 'mavericks', 'timezones', 'represented', 'has_one', 'kinect', 'strongly', 'usercontrols', 'typetext', 'accounts', 'smart', 'delayed', 'permutation', 'castle', 'relations', 'cshtml', '__attribute__', 'stroke', 'lan', 'caseinsensitive', 'machines', '1404', 'maximized', 'helloworld', 'repositories', 'corruption', 'lengths', 'couchdb', 'ngshow', 'cascading', 'retrieval', 'pro', 'manner', 'coldfusion', 'organize', 'dir', 'prints', 'routeprovider', 'java_home', 'pyc', 'apns', 'timing', 'bytearray', 'inspect', 'theres', 'say', 'important', 'stable', 'djangoadmin', '75', 'worth', 'www', 'chance', 'cellforrowatindexpath', 'profiler', 'legal', 'tfs', 'maybe', 'prop', 'preferably', 'assignments', 'kml', 'comparisons', 'cstring', 'ws', 'street', 'visit', 'receives', 'ascx', 'hooks', 'mapper', 'illegalstateexception', 'weka', 'communicating', 'unmarshalling', 'outofmemoryexception', 'llvm', 'backwards', 'optimal', 'pyramid', 'international', 'refactor', 'segments', 'concrete', 'backspace', 'straight', 'discover', 'showdialog', 'secured', 'wide', 'cropping', 'affected', 'unfortunately', 'capitalize', 'backgroundimage', 'hub', '16bit', 'appium', 'detached', 'wheel', 'acting', 'lot', 'becomes', 'fan', 'distinguish', 'crontab', 'timeouts', '__getitem__', 'sibling', 'grammar', 'probability', 'gray', 'sandbox', 'permitted', 'interest', 'accessor', 'onsubmit', 'temp', 'rcp', 'nsurl', 'internationalization', 'openxml', 'serversocket', 'blackberry', 'acquire', 'five', 'converts', 'selecteditem', 'len', 'sides', 'anywhere', 'unterminated', 'falls', 'triangles', 'datasources', 'disposing', 'mousedown', 'traversing', 'dtype', 'notebook', 'setattribute', 'deny', 'monday', 'as3', 'eliminate', 'minimal', 'networking', 'realloc', 'quickest', 'compiletime', 'comparable', 'outgoing', 'arg', 'playlist', 'checkedlistbox', 'latin', 'form_for', 'executereader', 'erb', '111', 'dos', 'aspectj', 'basics', 'bundles', 'uibarbuttonitem', 'form1', 'textfields', 'belong', 'xx', 'phase', 'reads', 'gap', 'grep', 'ios8', 'springs', 'benchmark', 'troubles', 'stores', 'java8', 'dropdowns', 'mvc2', 'intermediate', 'move_uploaded_file', 'strength', 'aligning', 'reject', 'sscanf', 'subqueries', 'stdlist', 'fetched', 'transactionscope', 'userid', 'sklearn', 'webstorm', 'early', 'des', 'sums', 'javalangunsatisfiedlinkerror', 'ended', 'squares', '71', 'jsfiddle', 'reusable', 'subarray', 'guaranteed', 'lifetime', 'phtml', 'autoscroll', 'backcolor', 'exiting', 'rating', 'xxxx', 'rxjava', 'talk', 'idiom', 'contract', 'concepts', 'ensuring', 'drools', 'cvmat', 'behave', 'tablet', 'hint', 'suggestion', 'asterisks', 'vb6', 'technique', 'fosuserbundle', 'prefer', 'arrayliststring', 'datarows', 'moment', 'vista', 'motion', 'scrolls', 'compareto', 'follows', 'requirement', 'commaseparated', 'nav', 'uitabbarcontroller', 'linebreaks', 'filenotfoundexception', 'published', 'behaving', 'warn', 'onblur', 'interpret', 'leads', 'permgen', 'clauses', 'rmarkdown', 'requesting', 'hhmm', 'crawl', 'scoping', 'autowiring', 'reserved', 'hand', 'q', 'moved', 'mistake', 'size_t', 'stringreplace', 'reconnect', 'seeing', 'dist', 'jruby', 'keystore', 'ioerror', 'automating', 'bridge', 'contour', 'newtonsoftjson', 'become', 'unpack', 'lnk2019', 'ngif', 'affects', 'msg', 'inherits', 'transitions', 'expiration', 'presentation', 'engines', 'interceptor', 'analog', 'destroyed', 'crawling', 'whitespaces', 'whilst', 'scratch', 'godaddy', 'half', 'bindingsource', 'repaint', 'secondary', 'isolate', 'robot', 'monotouch', 'vars', 'simplify', 'documentready', 'predict', 'browserify', 'pieces', 'strong', 'de', 'nas', 'props', 'objectid', 'i++', 'settext', 'purposes', 'nsnumber', 'undo', 'reversed', 'dock', 'cleanup', 'recv', 'biggest', 'situation', 'reliably', 'phrase', 'robust', 'visitor', 'httprequest', 'perfectly', 'gridlayout', 'backward', '46', 'parallelforeach', 'dead', 'jdbctemplate', 'concurrenthashmap', 'consider', 'ini', 'mousemove', 'mstest', 'neo4j', 'portrait', 'selectedindex', 'generators', 'rn', 'jinja', 'retrive', 'reactrouter', 'simplexmlelement', 'pager', 'partialview', 'repeats', 'recover', 'webxml', 'panning', 'getelementsbytagname', 'nsmutabledictionary', 'solving', 'webapplication', 'attacks', 'percentages', 'libs', 'rearrange', 'mediawiki', 'javaiofilenotfoundexception', 'reactive', 'providing', 'jpanels', 'trees', 'subscription', 'systemtimerstimer', 'ordinal', 'ctrl', 'opposed', 'killed', 'unlock', 'conform', 'mandatory', 'marionette', 'u', 'lag', 'instruction', 'openid', 'dummy', 'declares', 'monthly', 'iterations', 'swapping', 'fixing', 'adjusting', 'centering', 'datasets', 'patch', 'instanceof', 'histograms', 'inactive', 'prevents', 'outofmemory', 'pausing', 'destruction', 'redirecttoaction', 'uml', 'mouseout', 'ddl', 'affecting', 'busy', 'lifecycle', 'far', 'mvn', 'artifacts', 'mathround', 'articles', 'unnecessary', 'deferred', 'socketexception', 'exponent', 'quotation', 'drawimage', 'stale', 'differ', 'javalangnumberformatexception', 'mapstring', 'th', 'bubbling', 'unqualifiedid', 'modalpopupextender', 'sticky', 'toolbox', 'goal', 'qt5', 'visited', 'triple', 'jbuttons', 'technology', 'difficulty', 'verifying', 'phones', 'tiles', '#pragma', 'fadeout', 'spy', 'crossthread', 'gcd', 'boxplot', 'rbind', 'uuid', 'student', 'webpart', 'weekly', 'workers', 'sphere', 'keycode', 'systemint32', 'listint', 'tdd', 'transferred', 'bigger', 'pod', 'fileoutputstream', 'standards', 'zurb', 'actionlink', 'requestbody', 'dim', 'hashmaps', 'javalangruntimeexception', 'corresponds', 'money', 'poor', 'capital', 'cv', 'saying', 'springsecurity', 'birth', 'stylesheets', 'transforming', 'branch', '#1', 'compressing', 'confusing', 'quantity', 'inference', 'viable', 'recipients', 'idiomatic', 'executorservice', 'cancellation', 'mocked', 'locating', 'finger', 'weekends', 'update_attributes', 'publishing', 'feel', 'tapped', 'books', 'fashion', 'appdelegate', 'xmlns', 'findviewbyid', 'refuses', 'recipient', 'feedback', 'complains', '110', 'compressed', 'viewed', 'daily', 'pan', 'routine', 'selectedindexchanged', 'shipping', 'primaryexpression', 'executenonquery', 'datetimes', 'pushed', 'popups', 'recommendations', 'expiry', 'compiles', 'respective', 'flipping', 'tries', 'decoded', 'autoload', 'roll', 'attempted', 'catalog', 'print_r', 'injected', 'assume', 'uibuttons', 'subcategories', 'groupbox', 'mozilla', 'depend', 'interprocess', 'tweets', 'sqlparameter', 'adjacent', 'premature', 'pound', 'struggling', 'developers', 'proc', 'periodic', 'taskrun', 'often', 'exits', 'addclass', '#object', 'troubleshooting', 'reordering', 'programmer', 'protection', 'configurations', 'localtime', 'rightclick', 'actionresult', 'uint8_t', 'precise', 'colours', 'hasmany', 'nsinteger', 'paginate', 'otherwise', 'soapclient', 'keyerror', 'popular', 'interacting', 'overwritten', 'advance', 'counts', 'enhanced', 'million', 'logo', 'killing', 'read_csv', 'log4jxml', 'monodevelop', 'vowels', 'authenticating', 'subsets', 'current_user', 'viewdidload', 'inactivity', 'basis', 'stringify', 'complement', 'euler', 'mysql_num_rows', 'webrequest', 'cyrillic', 'complicated', 'massive', 'twoway', 'fontawesome', 'utf', 'banner', 'selectedvalue', 'dashes', 'endless', 'picking', 'pods', 'unescape', 'porting', 'fall', 'defaults', 'programmatic', 'runner', 'ashx', 'jasperreport', 'die', 'var_dump', '301', 'pem', 'met', 'parseint', 'matter', 'note', 'practical', 'datetimefield', 'tabbed', 'buffered', 'sqlserver', 'viewmodels', '503', 'ellipse', 'simplexml_load_string', 'normalize', 'decorators', 'windowsh', 'succeeded', 'urllib', 'cdi', 'boundaries', 'checks', 'joined', 'lwjgl', 'practise', 'sun', 'javanetconnectexception', 'paragraphs', 'connectivity', 'blade', 'superview', 'pow', 'securely', 'opera', 'instructions', 'jobject', 'polynomial', 'oncreate', 'javalanginteger', 'wise', 'bigdecimal', 'volatile', 'recognised', 'freezing', 'extremely', 'scenarios', 'centered', 'pane', 'jquerymobile', 'stays', 'nsmanagedobject', 'purchase', 'str_replace', 'truncating', 'restricting', 'air', 'instant', 'prepend', 'setcookie', 'browsing', 'mouseenter', 'alt', '__dopostback', 'scatterplot', 'couple', 'puzzle', 'midnight', 'servletcontext', 'tbody', 'gsub', '0s', 'room', 'distributed', 'initialise', 'aurelia', 'firebird', 'captcha', 'grant', 'inmemory', '106', 'ie10', 'timers', 'stage', 'di', 'created_at', 'signing', 'moves', 'reopen', 'runserver', '323', 'indirect', 'urlopen', 'suggest', 'constructing', 'alloc', 'addon', 'nullpointer', 'stdfunction', 'ancestor', 'bounding', 'potentially', 'text_field', 'ptr', 'hyphens', 'destructors', 'calloc', 'javabean', 'fading', 'describe', 'kendoui', 'equations', 'silently', '310', 'overlaps', '415', 'repetition', 'spam', 'batches', 'accented', 'in_array', 'systemdatasqlclientsqlexception', 'deserialized', 'orgjsonjsonexception', 'majorminor', 'echoing', 'fontsize', 'deletes', 'mysterious', 'dbcreate', 'slows', 'noob', 'cartesian', 'rectangular', 'ipv4', 'validators', 'accordingly', 'clip', 'zipping', 'unspecified', 'virtualbox', 'completes', 'evaluated', 'launcher', 'driving', 'flushing', 'initially', 'infinity', 'singly', 'pg', 'dual', 'h1', 'illegalargumentexception', 'switchcase', '303', 'went', 'templating', 'dashboard', 'sapui5', 'classifier', 'eventlistener', 'sip', 'qlabel', 'synthesize', 'ejb3', 'behaves', 'playback', 'nbsp', 'viewstate', 'qtableview', 'multiprocess', 'shifting', 'rootscope', '510', 'makefiles', 'gnu', 'cf', 'modes', 'authorized', 'strptime', 'strpos', 'nvarchar', 'multilanguage', 'inspector', 'tiff', 'indirectly', 'proceed', 'tensor', 'nghide', 'central', 'ngchange', 'windowlocationhref', 'isolated', 'systemdatetime', 'varbinary', 'accessory', 'accents', 'individually', 'ews', 'forin', 'vectorstring', 'probably', 'face', 'fancy', 'pushviewcontroller', 'deselect', 'c#s', 'namespaced', 'german', 'stackoverflowerror', 'unzip', 'targeting', 'prior', 'subscriptable', 'reponse', 'graphing', 'subversion', 'exhausted', 'icloud', 'estimation', 'multiplayer', 'divisible', 'evenly', 'stripping', 'remainder', 'xyz', 'systemtype', 'wget', 'requestparam', 'symmetric', 'uidatepicker', 'synchronously', 'slices', 'gracefully', 'passes', 'prism', 'simulating', 'ngdisabled', 'wheres', 'c++0x', 'get_or_create', 'shrink', 'singletons']\n",
            "0\n",
            "singletons\n"
          ],
          "name": "stdout"
        },
        {
          "output_type": "execute_result",
          "data": {
            "text/plain": [
              "array([2., 0., 0., 2.])"
            ]
          },
          "metadata": {
            "tags": []
          },
          "execution_count": 148
        }
      ]
    },
    {
      "cell_type": "code",
      "metadata": {
        "id": "lehwrzC-5ykN",
        "colab_type": "code",
        "colab": {}
      },
      "source": [
        "def test_my_bag_of_words():\n",
        "    words_to_index = {'hi': 0, 'you': 1, 'me': 2, 'are': 3}\n",
        "    examples = ['hi how are you']\n",
        "    answers = [[1, 1, 0, 1]]\n",
        "    for ex, ans in zip(examples, answers):\n",
        "        if (my_bag_of_words(ex, words_to_index, 4) != ans).any():\n",
        "            return \"Wrong answer for the case: '%s'\" % ex\n",
        "    return 'Basic tests are passed.'"
      ],
      "execution_count": 0,
      "outputs": []
    },
    {
      "cell_type": "code",
      "metadata": {
        "id": "_-BE9pGV5ykR",
        "colab_type": "code",
        "outputId": "a7743e1b-43dc-4a18-c6a0-8c63a800b4e6",
        "colab": {
          "base_uri": "https://localhost:8080/",
          "height": 34
        }
      },
      "source": [
        "print(test_my_bag_of_words())"
      ],
      "execution_count": 150,
      "outputs": [
        {
          "output_type": "stream",
          "text": [
            "Basic tests are passed.\n"
          ],
          "name": "stdout"
        }
      ]
    },
    {
      "cell_type": "markdown",
      "metadata": {
        "id": "t6l4aEsP5ykW",
        "colab_type": "text"
      },
      "source": [
        "Now apply the implemented function to all samples (this might take up to a minute):"
      ]
    },
    {
      "cell_type": "code",
      "metadata": {
        "id": "j7sOHWFK5ykX",
        "colab_type": "code",
        "colab": {}
      },
      "source": [
        "from scipy import sparse as sp_sparse"
      ],
      "execution_count": 0,
      "outputs": []
    },
    {
      "cell_type": "code",
      "metadata": {
        "id": "4JX2JUXF5yka",
        "colab_type": "code",
        "outputId": "6a3f71dc-9873-4e45-ffcb-ba2c64e0761a",
        "colab": {
          "base_uri": "https://localhost:8080/",
          "height": 69
        }
      },
      "source": [
        "X_train_mybag = sp_sparse.vstack([sp_sparse.csr_matrix(my_bag_of_words(text, WORDS_TO_INDEX, DICT_SIZE)) for text in X_train])\n",
        "X_val_mybag = sp_sparse.vstack([sp_sparse.csr_matrix(my_bag_of_words(text, WORDS_TO_INDEX, DICT_SIZE)) for text in X_val])\n",
        "X_test_mybag = sp_sparse.vstack([sp_sparse.csr_matrix(my_bag_of_words(text, WORDS_TO_INDEX, DICT_SIZE)) for text in X_test])\n",
        "print('X_train shape ', X_train_mybag.shape)\n",
        "print('X_val shape ', X_val_mybag.shape)\n",
        "print('X_test shape ', X_test_mybag.shape)"
      ],
      "execution_count": 152,
      "outputs": [
        {
          "output_type": "stream",
          "text": [
            "X_train shape  (100000, 5000)\n",
            "X_val shape  (30000, 5000)\n",
            "X_test shape  (20000, 5000)\n"
          ],
          "name": "stdout"
        }
      ]
    },
    {
      "cell_type": "markdown",
      "metadata": {
        "id": "SM6s401-5yke",
        "colab_type": "text"
      },
      "source": [
        "As you might notice, we transform the data to sparse representation, to store the useful information efficiently. There are many [types](https://docs.scipy.org/doc/scipy/reference/sparse.html) of such representations, however sklearn algorithms can work only with [csr](https://docs.scipy.org/doc/scipy/reference/generated/scipy.sparse.csr_matrix.html#scipy.sparse.csr_matrix) matrix, so we will use this one."
      ]
    },
    {
      "cell_type": "markdown",
      "metadata": {
        "id": "WqhWXTpI5ykf",
        "colab_type": "text"
      },
      "source": [
        "**Task 3 (BagOfWords).** For the 11th row in *X_train_mybag* find how many non-zero elements it has. In this task the answer (variable *non_zero_elements_count*) should be an integer number, e.g. 20."
      ]
    },
    {
      "cell_type": "code",
      "metadata": {
        "id": "Syy4mw5E5ykf",
        "colab_type": "code",
        "outputId": "33d2a369-57de-4742-ba32-3d1cdb1d4f60",
        "colab": {
          "base_uri": "https://localhost:8080/",
          "height": 52
        }
      },
      "source": [
        "row = X_train_mybag[10].toarray()[0]\n",
        "import numpy\n",
        "non_zero_elements_count = int(np.count_nonzero(row))\n",
        "\n",
        "grader.submit_tag('BagOfWords', str(non_zero_elements_count))"
      ],
      "execution_count": 153,
      "outputs": [
        {
          "output_type": "stream",
          "text": [
            "Current answer for task BagOfWords is:\n",
            " 7...\n"
          ],
          "name": "stdout"
        }
      ]
    },
    {
      "cell_type": "markdown",
      "metadata": {
        "id": "Sm9wydaL5yki",
        "colab_type": "text"
      },
      "source": [
        "#### TF-IDF\n",
        "\n",
        "The second approach extends the bag-of-words framework by taking into account total frequencies of words in the corpora. It helps to penalize too frequent words and provide better features space. \n",
        "\n",
        "Implement function *tfidf_features* using class [TfidfVectorizer](http://scikit-learn.org/stable/modules/generated/sklearn.feature_extraction.text.TfidfVectorizer.html) from *scikit-learn*. Use *train* corpus to train a vectorizer. Don't forget to take a look into the arguments that you can pass to it. We suggest that you filter out too rare words (occur less than in 5 titles) and too frequent words (occur more than in 90% of the titles). Also, use bigrams along with unigrams in your vocabulary. "
      ]
    },
    {
      "cell_type": "code",
      "metadata": {
        "id": "Gb6IW0TE5ykj",
        "colab_type": "code",
        "colab": {}
      },
      "source": [
        "from sklearn.feature_extraction.text import TfidfVectorizer"
      ],
      "execution_count": 0,
      "outputs": []
    },
    {
      "cell_type": "code",
      "metadata": {
        "id": "g-eDiivi5ykm",
        "colab_type": "code",
        "colab": {}
      },
      "source": [
        "def tfidf_features(X_train, X_val, X_test):\n",
        "    \"\"\"\n",
        "        X_train, X_val, X_test — samples        \n",
        "        return TF-IDF vectorized representation of each sample and vocabulary\n",
        "    \"\"\"\n",
        "    # Create TF-IDF vectorizer with a proper parameters choice\n",
        "    # Fit the vectorizer on the train set\n",
        "    # Transform the train, test, and val sets and return the result\n",
        "    \n",
        "    params = dict(\n",
        "                        lowercase = True,\n",
        "                        token_pattern = r'(\\S+)',\n",
        "                        max_df = 0.5, \n",
        "                        min_df = 10)\n",
        "    \n",
        "    tfidf_vectorizer = TfidfVectorizer(**params)\n",
        "    X_train = tfidf_vectorizer.fit_transform(X_train)\n",
        "    X_val = tfidf_vectorizer.transform(X_val)\n",
        "    X_test = tfidf_vectorizer.transform(X_test)\n",
        "\n",
        "    \n",
        "    return X_train, X_val, X_test, tfidf_vectorizer.vocabulary_"
      ],
      "execution_count": 0,
      "outputs": []
    },
    {
      "cell_type": "markdown",
      "metadata": {
        "id": "Y0-Cs-DM5ykp",
        "colab_type": "text"
      },
      "source": [
        "Once you have done text preprocessing, always have a look at the results. Be very careful at this step, because the performance of future models will drastically depend on it. \n",
        "\n",
        "In this case, check whether you have c++ or c# in your vocabulary, as they are obviously important tokens in our tags prediction task:"
      ]
    },
    {
      "cell_type": "code",
      "metadata": {
        "id": "GTTg4kPj5ykp",
        "colab_type": "code",
        "colab": {}
      },
      "source": [
        "X_train_tfidf, X_val_tfidf, X_test_tfidf, tfidf_vocab = tfidf_features(X_train, X_val, X_test)\n",
        "tfidf_reversed_vocab = {i:word for word,i in tfidf_vocab.items()}"
      ],
      "execution_count": 0,
      "outputs": []
    },
    {
      "cell_type": "code",
      "metadata": {
        "id": "GYh8_kmK5yks",
        "colab_type": "code",
        "colab": {
          "base_uri": "https://localhost:8080/",
          "height": 121
        },
        "outputId": "d16d7f7d-db65-48b0-9f43-7bd9db575082"
      },
      "source": [
        "test_words = [\"c++\", \"java\", \"lol\", \"like\", \"movie\", \"cheese\"]\n",
        "for word in test_words:\n",
        "  print(f\"{word} is in corpus: {word in tfidf_reversed_vocab.values()}\")"
      ],
      "execution_count": 188,
      "outputs": [
        {
          "output_type": "stream",
          "text": [
            "c++ is in corpus: True\n",
            "java is in corpus: True\n",
            "lol is in corpus: False\n",
            "like is in corpus: True\n",
            "movie is in corpus: False\n",
            "cheese is in corpus: False\n"
          ],
          "name": "stdout"
        }
      ]
    },
    {
      "cell_type": "markdown",
      "metadata": {
        "id": "zFZ0jbBi5ykw",
        "colab_type": "text"
      },
      "source": [
        "If you can't find it, we need to understand how did it happen that we lost them? It happened during the built-in tokenization of TfidfVectorizer. Luckily, we can influence on this process. Get back to the function above and use '(\\S+)' regexp as a *token_pattern* in the constructor of the vectorizer.  "
      ]
    },
    {
      "cell_type": "markdown",
      "metadata": {
        "id": "7NXTGsIs5yky",
        "colab_type": "text"
      },
      "source": [
        "Now, use this transormation for the data and check again."
      ]
    },
    {
      "cell_type": "code",
      "metadata": {
        "id": "FbYecogr5ykz",
        "colab_type": "code",
        "colab": {}
      },
      "source": [
        "######### YOUR CODE HERE #############"
      ],
      "execution_count": 0,
      "outputs": []
    },
    {
      "cell_type": "markdown",
      "metadata": {
        "id": "x-p-PkBa5ylC",
        "colab_type": "text"
      },
      "source": [
        "### MultiLabel classifier\n",
        "\n",
        "As we have noticed before, in this task each example can have multiple tags. To deal with such kind of prediction, we need to transform labels in a binary form and the prediction will be a mask of 0s and 1s. For this purpose it is convenient to use [MultiLabelBinarizer](http://scikit-learn.org/stable/modules/generated/sklearn.preprocessing.MultiLabelBinarizer.html) from *sklearn*."
      ]
    },
    {
      "cell_type": "code",
      "metadata": {
        "id": "IGDfWx8n5ylD",
        "colab_type": "code",
        "colab": {}
      },
      "source": [
        "from sklearn.preprocessing import MultiLabelBinarizer"
      ],
      "execution_count": 0,
      "outputs": []
    },
    {
      "cell_type": "code",
      "metadata": {
        "id": "16Hy35GZ5ylG",
        "colab_type": "code",
        "colab": {
          "base_uri": "https://localhost:8080/",
          "height": 538
        },
        "outputId": "061c4c82-ae35-43fd-8301-d170f6bb77b0"
      },
      "source": [
        "mlb = MultiLabelBinarizer(classes=sorted(dict(tags_counts).keys()))\n",
        "y_train = mlb.fit_transform(y_train)\n",
        "y_val = mlb.fit_transform(y_val)\n",
        "print(y_val[:2])"
      ],
      "execution_count": 160,
      "outputs": [
        {
          "output_type": "stream",
          "text": [
            "[[0 0 0 0 0 0 0 0 0 0 0 0 0 0 0 0 0 0 0 0 0 0 0 0 0 0 0 0 0 0 0 0 0 0 0 0\n",
            "  0 0 0 0 0 0 0 0 0 0 0 0 0 0 0 0 0 0 0 0 0 0 0 0 1 0 0 0 0 0 0 0 0 0 0 0\n",
            "  0 0 0 0 0 0 0 1 0 0 0 0 0 0 0 0 0 0 0 0 0 0 0 0 0 0 0 0]\n",
            " [0 0 0 0 0 0 0 0 0 0 0 0 0 0 0 0 0 0 0 0 0 0 0 0 0 0 0 0 0 0 0 0 0 0 0 0\n",
            "  0 0 1 0 0 0 0 0 0 0 0 0 0 0 0 0 0 0 0 0 0 0 0 0 0 0 0 0 0 0 0 0 0 0 0 0\n",
            "  0 0 0 0 0 0 0 0 0 0 0 0 0 0 0 0 0 0 0 0 0 0 0 0 0 0 0 0]\n",
            " [0 0 0 0 0 0 0 0 0 0 0 0 0 0 0 0 0 0 0 0 0 0 0 0 0 0 0 0 0 0 0 0 0 0 0 0\n",
            "  0 0 0 0 0 0 0 0 0 0 0 0 0 0 0 0 0 0 0 0 0 0 0 0 0 0 0 0 0 0 0 0 0 1 1 0\n",
            "  0 0 0 0 0 0 0 0 0 0 0 0 0 0 0 0 0 0 0 0 0 0 0 0 0 0 0 0]\n",
            " [0 0 0 0 0 0 0 0 0 0 0 0 0 0 0 0 0 0 0 0 0 0 0 0 0 0 0 0 0 0 0 0 0 0 0 0\n",
            "  0 0 0 0 0 0 0 0 0 0 0 0 0 0 0 0 0 0 0 0 0 0 0 0 0 0 0 0 0 0 0 0 0 1 0 0\n",
            "  0 0 1 0 0 0 0 0 0 0 0 0 0 0 0 0 0 0 0 0 0 0 0 0 0 0 0 0]\n",
            " [0 0 0 0 0 0 0 0 0 0 0 0 0 0 0 0 0 0 0 0 0 0 0 0 0 0 0 0 0 0 0 0 0 0 0 0\n",
            "  0 0 0 0 1 0 0 0 0 0 0 0 0 0 0 0 0 0 0 0 0 0 0 0 0 0 0 0 0 0 0 0 0 1 1 0\n",
            "  0 0 0 0 0 0 0 0 0 0 0 0 0 0 0 0 0 0 0 0 0 0 0 0 0 0 0 0]\n",
            " [0 0 0 0 0 0 0 0 0 0 0 1 0 0 0 0 0 0 0 0 0 0 0 0 0 0 0 0 0 0 0 0 0 0 0 1\n",
            "  1 0 0 0 0 0 0 0 0 0 0 0 0 0 0 0 0 0 0 0 0 0 0 0 0 0 0 0 0 0 0 0 0 0 0 0\n",
            "  0 0 0 0 0 0 0 0 0 0 0 0 0 0 0 0 0 0 0 0 0 0 0 0 0 0 1 0]\n",
            " [0 0 0 0 0 0 0 0 0 0 1 0 0 0 0 0 0 0 0 0 0 0 0 0 0 0 0 0 0 0 0 0 0 0 0 0\n",
            "  0 0 0 0 0 0 0 0 0 0 0 0 0 0 0 0 0 0 0 0 0 0 0 0 0 0 0 0 0 0 0 0 0 0 0 0\n",
            "  0 0 0 0 0 0 0 0 0 0 0 0 0 0 0 0 0 0 0 0 0 0 0 0 0 0 0 0]\n",
            " [0 0 0 0 0 0 0 0 0 0 0 0 0 0 0 0 0 0 0 0 1 0 0 0 0 0 0 0 0 0 0 0 0 0 0 0\n",
            "  0 0 0 0 0 0 0 0 0 0 0 0 0 0 0 0 0 0 0 0 0 0 0 0 0 0 1 0 0 0 0 0 0 0 0 0\n",
            "  0 0 0 0 0 0 0 0 0 0 0 0 0 0 0 0 0 0 0 0 0 0 0 0 0 0 0 0]\n",
            " [0 0 0 0 0 0 0 0 0 0 0 0 0 0 0 0 0 0 0 0 0 0 0 0 0 0 0 0 0 0 0 0 1 0 0 0\n",
            "  0 0 1 1 0 0 0 0 0 0 0 0 0 0 0 0 0 0 0 0 0 0 0 0 0 0 0 0 0 0 0 0 0 0 0 0\n",
            "  0 0 0 0 0 0 0 0 0 0 0 0 0 0 0 0 0 0 0 0 0 0 0 0 0 0 0 0]\n",
            " [0 0 0 0 0 0 0 0 0 0 0 0 0 0 0 0 0 0 0 0 0 0 0 0 0 0 0 0 0 0 0 1 0 0 0 0\n",
            "  0 1 0 0 0 0 0 0 0 0 0 0 0 0 0 0 0 0 0 0 0 0 0 0 0 0 0 0 0 0 0 0 0 0 0 0\n",
            "  0 0 0 0 0 0 0 0 0 0 0 0 0 0 0 0 0 0 0 0 0 0 0 0 0 0 0 0]]\n"
          ],
          "name": "stdout"
        }
      ]
    },
    {
      "cell_type": "markdown",
      "metadata": {
        "id": "3w2B6m-k5ylJ",
        "colab_type": "text"
      },
      "source": [
        "Implement the function *train_classifier* for training a classifier. In this task we suggest to use One-vs-Rest approach, which is implemented in [OneVsRestClassifier](http://scikit-learn.org/stable/modules/generated/sklearn.multiclass.OneVsRestClassifier.html) class. In this approach *k* classifiers (= number of tags) are trained. As a basic classifier, use [LogisticRegression](http://scikit-learn.org/stable/modules/generated/sklearn.linear_model.LogisticRegression.html). It is one of the simplest methods, but often it performs good enough in text classification tasks. It might take some time, because a number of classifiers to train is large."
      ]
    },
    {
      "cell_type": "code",
      "metadata": {
        "id": "HKcj5dIe5ylJ",
        "colab_type": "code",
        "colab": {}
      },
      "source": [
        "from sklearn.multiclass import OneVsRestClassifier\n",
        "from sklearn.linear_model import LogisticRegression, RidgeClassifier, LogisticRegressionCV\n",
        "from sklearn.naive_bayes import BernoulliNB"
      ],
      "execution_count": 0,
      "outputs": []
    },
    {
      "cell_type": "code",
      "metadata": {
        "id": "0h74dojO5ylN",
        "colab_type": "code",
        "colab": {
          "base_uri": "https://localhost:8080/",
          "height": 52
        },
        "outputId": "d8ce5534-6903-4d4f-c37a-1e48c06f1108"
      },
      "source": [
        "def train_classifier(X_train, y_train):\n",
        "    \"\"\"\n",
        "      X_train, y_train — training data\n",
        "      \n",
        "      return: trained classifier\n",
        "    \"\"\"\n",
        "    \n",
        "    # Create and fit LogisticRegression wraped into OneVsRestClassifier.\n",
        "    # pipeline = LogisticRegression(n_jobs=4, C=1e5, solver='saga', penalty='elasticnet', l1_ratio=0.2, multi_class=\"multinomial\")\n",
        "    pipeline = OneVsRestClassifier(LogisticRegressionCV(solver='saga', penalty='elasticnet', l1_ratios=[0.1, 0.5, 0.9],Cs=[0.1,1,10,100], scoring='f1_score'))\n",
        "    return pipeline.fit(X_train, y_train)\n",
        "\n",
        "def train_classifier2(X_train, y_train):\n",
        "    \"\"\"\n",
        "      X_train, y_train — training data\n",
        "      \n",
        "      return: trained classifier\n",
        "    \"\"\"\n",
        "    \n",
        "    # Create and fit LogisticRegression wraped into OneVsRestClassifier.\n",
        "    pipeline = OneVsRestClassifier(LogisticRegressionCV(n_jobs=4, C=1e5, solver='sag'))\n",
        "    return pipeline.fit(X_train, y_train)\n",
        "\n",
        "X_train_mybag[:2]"
      ],
      "execution_count": 216,
      "outputs": [
        {
          "output_type": "execute_result",
          "data": {
            "text/plain": [
              "<2x5000 sparse matrix of type '<class 'numpy.float64'>'\n",
              "\twith 11 stored elements in Compressed Sparse Row format>"
            ]
          },
          "metadata": {
            "tags": []
          },
          "execution_count": 216
        }
      ]
    },
    {
      "cell_type": "markdown",
      "metadata": {
        "id": "991OIVqm5ylP",
        "colab_type": "text"
      },
      "source": [
        "Train the classifiers for different data transformations: *bag-of-words* and *tf-idf*."
      ]
    },
    {
      "cell_type": "code",
      "metadata": {
        "id": "Cas3NN5p5ylP",
        "colab_type": "code",
        "colab": {}
      },
      "source": [
        "\n",
        "classifier_mybag = train_classifier(X_train_mybag, y_train)"
      ],
      "execution_count": 0,
      "outputs": []
    },
    {
      "cell_type": "code",
      "metadata": {
        "id": "o3cJU32ObFRK",
        "colab_type": "code",
        "colab": {
          "base_uri": "https://localhost:8080/",
          "height": 69
        },
        "outputId": "e62e3704-02b8-419f-c6c6-65f06f509d6d"
      },
      "source": [
        "import sklearn\n",
        "print(sklearn.__version__)\n",
        "print(X_train_tfidf.shape)\n",
        "print(y_train.shape)\n",
        "classifier_tfidf = train_classifier2(X_train_tfidf, y_train)\n"
      ],
      "execution_count": 203,
      "outputs": [
        {
          "output_type": "stream",
          "text": [
            "0.22.2.post1\n",
            "(100000, 357)\n",
            "(100000, 100)\n"
          ],
          "name": "stdout"
        }
      ]
    },
    {
      "cell_type": "markdown",
      "metadata": {
        "id": "RFEJmJrY5ylS",
        "colab_type": "text"
      },
      "source": [
        "Now you can create predictions for the data. You will need two types of predictions: labels and scores."
      ]
    },
    {
      "cell_type": "code",
      "metadata": {
        "id": "v3pTLVDJ5ylT",
        "colab_type": "code",
        "colab": {}
      },
      "source": [
        "y_val_predicted_labels_mybag = classifier_mybag.predict(X_val_mybag)\n",
        "y_val_predicted_scores_mybag = classifier_mybag.decision_function(X_val_mybag)\n",
        "\n",
        "y_val_predicted_labels_tfidf = classifier_tfidf.predict(X_val_tfidf)\n",
        "y_val_predicted_scores_tfidf = classifier_tfidf.decision_function(X_val_tfidf)"
      ],
      "execution_count": 0,
      "outputs": []
    },
    {
      "cell_type": "markdown",
      "metadata": {
        "id": "OE2WLQh85ylW",
        "colab_type": "text"
      },
      "source": [
        "Now take a look at how classifier, which uses TF-IDF, works for a few examples:"
      ]
    },
    {
      "cell_type": "code",
      "metadata": {
        "id": "GhQrCiJR5ylW",
        "colab_type": "code",
        "colab": {}
      },
      "source": [
        "y_val_pred_inversed = mlb.inverse_transform(y_val_predicted_labels_tfidf)\n",
        "y_val_inversed = mlb.inverse_transform(y_val)\n",
        "for i in range(3):\n",
        "    print('Title:\\t{}\\nTrue labels:\\t{}\\nPredicted labels:\\t{}\\n\\n'.format(\n",
        "        X_val[i],\n",
        "        ','.join(y_val_inversed[i]),\n",
        "        ','.join(y_val_pred_inversed[i])\n",
        "    ))"
      ],
      "execution_count": 0,
      "outputs": []
    },
    {
      "cell_type": "markdown",
      "metadata": {
        "id": "YACu6YU55ylY",
        "colab_type": "text"
      },
      "source": [
        "Now, we would need to compare the results of different predictions, e.g. to see whether TF-IDF transformation helps or to try different regularization techniques in logistic regression. For all these experiments, we need to setup evaluation procedure. "
      ]
    },
    {
      "cell_type": "markdown",
      "metadata": {
        "id": "DiQ7jIt65ylZ",
        "colab_type": "text"
      },
      "source": [
        "### Evaluation\n",
        "\n",
        "To evaluate the results we will use several classification metrics:\n",
        " - [Accuracy](http://scikit-learn.org/stable/modules/generated/sklearn.metrics.accuracy_score.html)\n",
        " - [F1-score](http://scikit-learn.org/stable/modules/generated/sklearn.metrics.f1_score.html)\n",
        " - [Area under ROC-curve](http://scikit-learn.org/stable/modules/generated/sklearn.metrics.roc_auc_score.html)\n",
        " - [Area under precision-recall curve](http://scikit-learn.org/stable/modules/generated/sklearn.metrics.average_precision_score.html#sklearn.metrics.average_precision_score) \n",
        " \n",
        "Make sure you are familiar with all of them. How would you expect the things work for the multi-label scenario? Read about micro/macro/weighted averaging following the sklearn links provided above."
      ]
    },
    {
      "cell_type": "code",
      "metadata": {
        "id": "FLft5DS15ylZ",
        "colab_type": "code",
        "colab": {}
      },
      "source": [
        "from sklearn.metrics import accuracy_score\n",
        "from sklearn.metrics import f1_score\n",
        "from sklearn.metrics import roc_auc_score \n",
        "from sklearn.metrics import average_precision_score\n",
        "from sklearn.metrics import recall_score"
      ],
      "execution_count": 0,
      "outputs": []
    },
    {
      "cell_type": "markdown",
      "metadata": {
        "id": "woVHfvjH5yld",
        "colab_type": "text"
      },
      "source": [
        "Implement the function *print_evaluation_scores* which calculates and prints to stdout:\n",
        " - *accuracy*\n",
        " - *F1-score macro/micro/weighted*\n",
        " - *Precision macro/micro/weighted*"
      ]
    },
    {
      "cell_type": "code",
      "metadata": {
        "id": "wgFzSDuP5yld",
        "colab_type": "code",
        "colab": {
          "base_uri": "https://localhost:8080/",
          "height": 121
        },
        "outputId": "0ef8e8fb-7f3b-42cd-d968-6015d475ffc3"
      },
      "source": [
        "def print_evaluation_scores(y_val, predicted):\n",
        "    score = dict()\n",
        "    score['acc'] = accuracy_score(y_val, predicted)\n",
        "    score['f1'] = f1_score(y_val, predicted, average='macro')\n",
        "    score['auc'] = roc_auc_score(y_val, predicted, average='macro')\n",
        "    score['prec'] = average_precision_score(y_val, predicted, average='macro')\n",
        "    score['rec'] = recall_score(y_val, predicted, average='macro')\n",
        "    for k, v in score.items():\n",
        "      print(k, v)\n",
        "\n",
        "print(y_val[:2])"
      ],
      "execution_count": 207,
      "outputs": [
        {
          "output_type": "stream",
          "text": [
            "[[0 0 0 0 0 0 0 0 0 0 0 0 0 0 0 0 0 0 0 0 0 0 0 0 0 0 0 0 0 0 0 0 0 0 0 0\n",
            "  0 0 0 0 0 0 0 0 0 0 0 0 0 0 0 0 0 0 0 0 0 0 0 0 1 0 0 0 0 0 0 0 0 0 0 0\n",
            "  0 0 0 0 0 0 0 1 0 0 0 0 0 0 0 0 0 0 0 0 0 0 0 0 0 0 0 0]\n",
            " [0 0 0 0 0 0 0 0 0 0 0 0 0 0 0 0 0 0 0 0 0 0 0 0 0 0 0 0 0 0 0 0 0 0 0 0\n",
            "  0 0 1 0 0 0 0 0 0 0 0 0 0 0 0 0 0 0 0 0 0 0 0 0 0 0 0 0 0 0 0 0 0 0 0 0\n",
            "  0 0 0 0 0 0 0 0 0 0 0 0 0 0 0 0 0 0 0 0 0 0 0 0 0 0 0 0]]\n"
          ],
          "name": "stdout"
        }
      ]
    },
    {
      "cell_type": "code",
      "metadata": {
        "id": "CcpQ8NU65ylg",
        "colab_type": "code",
        "colab": {
          "base_uri": "https://localhost:8080/",
          "height": 225
        },
        "outputId": "f8a692c3-3d26-4922-8b32-92be2816d6f7"
      },
      "source": [
        "print('Bag-of-words')\n",
        "print_evaluation_scores(y_val, y_val_predicted_labels_mybag)\n",
        "print('Tfidf')\n",
        "print_evaluation_scores(y_val, y_val_predicted_labels_tfidf)"
      ],
      "execution_count": 208,
      "outputs": [
        {
          "output_type": "stream",
          "text": [
            "Bag-of-words\n",
            "acc 0.3583\n",
            "f1 0.5044639495748305\n",
            "auc 0.704064641508399\n",
            "prec 0.344257673153574\n",
            "rec 0.41006751183302226\n",
            "Tfidf\n",
            "acc 0.2491\n",
            "f1 0.36738146056736964\n",
            "auc 0.6401765861061613\n",
            "prec 0.24447099925651852\n",
            "rec 0.2817866673423124\n"
          ],
          "name": "stdout"
        }
      ]
    },
    {
      "cell_type": "markdown",
      "metadata": {
        "id": "Y-VGMT-H5ylj",
        "colab_type": "text"
      },
      "source": [
        "You might also want to plot some generalization of the [ROC curve](http://scikit-learn.org/stable/modules/model_evaluation.html#receiver-operating-characteristic-roc) for the case of multi-label classification. Provided function *roc_auc* can make it for you. The input parameters of this function are:\n",
        " - true labels\n",
        " - decision functions scores\n",
        " - number of classes"
      ]
    },
    {
      "cell_type": "code",
      "metadata": {
        "id": "OhF9dt5C5ylj",
        "colab_type": "code",
        "colab": {
          "base_uri": "https://localhost:8080/",
          "height": 322
        },
        "outputId": "70a7666b-8b69-417e-d28c-f50b3e9111a1"
      },
      "source": [
        "from metrics import roc_auc\n",
        "%matplotlib inline"
      ],
      "execution_count": 175,
      "outputs": [
        {
          "output_type": "error",
          "ename": "ImportError",
          "evalue": "ignored",
          "traceback": [
            "\u001b[0;31m---------------------------------------------------------------------------\u001b[0m",
            "\u001b[0;31mImportError\u001b[0m                               Traceback (most recent call last)",
            "\u001b[0;32m<ipython-input-175-9af935e9acdd>\u001b[0m in \u001b[0;36m<module>\u001b[0;34m()\u001b[0m\n\u001b[0;32m----> 1\u001b[0;31m \u001b[0;32mfrom\u001b[0m \u001b[0mmetrics\u001b[0m \u001b[0;32mimport\u001b[0m \u001b[0mroc_auc\u001b[0m\u001b[0;34m\u001b[0m\u001b[0;34m\u001b[0m\u001b[0m\n\u001b[0m\u001b[1;32m      2\u001b[0m \u001b[0mget_ipython\u001b[0m\u001b[0;34m(\u001b[0m\u001b[0;34m)\u001b[0m\u001b[0;34m.\u001b[0m\u001b[0mmagic\u001b[0m\u001b[0;34m(\u001b[0m\u001b[0;34m'matplotlib inline'\u001b[0m\u001b[0;34m)\u001b[0m\u001b[0;34m\u001b[0m\u001b[0;34m\u001b[0m\u001b[0m\n",
            "\u001b[0;31mImportError\u001b[0m: cannot import name 'roc_auc'",
            "",
            "\u001b[0;31m---------------------------------------------------------------------------\u001b[0;32m\nNOTE: If your import is failing due to a missing package, you can\nmanually install dependencies using either !pip or !apt.\n\nTo view examples of installing some common dependencies, click the\n\"Open Examples\" button below.\n\u001b[0;31m---------------------------------------------------------------------------\u001b[0m\n"
          ]
        }
      ]
    },
    {
      "cell_type": "code",
      "metadata": {
        "id": "3VwneNh25ylm",
        "colab_type": "code",
        "colab": {
          "base_uri": "https://localhost:8080/",
          "height": 183
        },
        "outputId": "f5d439a9-e1c5-44af-fe5a-d9a134fa30d2"
      },
      "source": [
        "n_classes = len(tags_counts)\n",
        "roc_auc(y_val, y_val_predicted_scores_mybag, n_classes)"
      ],
      "execution_count": 176,
      "outputs": [
        {
          "output_type": "error",
          "ename": "NameError",
          "evalue": "ignored",
          "traceback": [
            "\u001b[0;31m---------------------------------------------------------------------------\u001b[0m",
            "\u001b[0;31mNameError\u001b[0m                                 Traceback (most recent call last)",
            "\u001b[0;32m<ipython-input-176-066662d26757>\u001b[0m in \u001b[0;36m<module>\u001b[0;34m()\u001b[0m\n\u001b[1;32m      1\u001b[0m \u001b[0mn_classes\u001b[0m \u001b[0;34m=\u001b[0m \u001b[0mlen\u001b[0m\u001b[0;34m(\u001b[0m\u001b[0mtags_counts\u001b[0m\u001b[0;34m)\u001b[0m\u001b[0;34m\u001b[0m\u001b[0;34m\u001b[0m\u001b[0m\n\u001b[0;32m----> 2\u001b[0;31m \u001b[0mroc_auc\u001b[0m\u001b[0;34m(\u001b[0m\u001b[0my_val\u001b[0m\u001b[0;34m,\u001b[0m \u001b[0my_val_predicted_scores_mybag\u001b[0m\u001b[0;34m,\u001b[0m \u001b[0mn_classes\u001b[0m\u001b[0;34m)\u001b[0m\u001b[0;34m\u001b[0m\u001b[0;34m\u001b[0m\u001b[0m\n\u001b[0m",
            "\u001b[0;31mNameError\u001b[0m: name 'roc_auc' is not defined"
          ]
        }
      ]
    },
    {
      "cell_type": "code",
      "metadata": {
        "id": "ziRL6RM25ylo",
        "colab_type": "code",
        "colab": {}
      },
      "source": [
        "n_classes = len(tags_counts)\n",
        "roc_auc(y_val, y_val_predicted_scores_tfidf, n_classes)"
      ],
      "execution_count": 0,
      "outputs": []
    },
    {
      "cell_type": "markdown",
      "metadata": {
        "id": "-FGB2cDK5ylr",
        "colab_type": "text"
      },
      "source": [
        "**Task 4 (MultilabelClassification).** Once we have the evaluation set up, we suggest that you experiment a bit with training your classifiers. We will use *F1-score weighted* as an evaluation metric. Our recommendation:\n",
        "- compare the quality of the bag-of-words and TF-IDF approaches and chose one of them.\n",
        "- for the chosen one, try *L1* and *L2*-regularization techniques in Logistic Regression with different coefficients (e.g. C equal to 0.1, 1, 10, 100).\n",
        "\n",
        "You also could try other improvements of the preprocessing / model, if you want. "
      ]
    },
    {
      "cell_type": "code",
      "metadata": {
        "id": "YFnvCMAO5ylr",
        "colab_type": "code",
        "colab": {
          "base_uri": "https://localhost:8080/",
          "height": 347
        },
        "outputId": "29fd7d1a-79e8-4430-baa5-0d278578e4f9"
      },
      "source": [
        "print(X_test_mybag[:3])\n",
        "y_test_predicted = classifier_mybag.predict(X_test_mybag)"
      ],
      "execution_count": 180,
      "outputs": [
        {
          "output_type": "stream",
          "text": [
            "  (0, 15)\t1.0\n",
            "  (0, 111)\t1.0\n",
            "  (0, 141)\t1.0\n",
            "  (0, 359)\t1.0\n",
            "  (0, 427)\t1.0\n",
            "  (0, 431)\t1.0\n",
            "  (0, 1543)\t1.0\n",
            "  (0, 3433)\t1.0\n",
            "  (1, 4)\t1.0\n",
            "  (1, 6)\t1.0\n",
            "  (1, 68)\t1.0\n",
            "  (1, 104)\t1.0\n",
            "  (1, 168)\t1.0\n",
            "  (1, 817)\t1.0\n",
            "  (2, 348)\t1.0\n",
            "  (2, 1071)\t1.0\n",
            "  (2, 1513)\t1.0\n",
            "  (2, 1778)\t1.0\n",
            "  (2, 1908)\t1.0\n"
          ],
          "name": "stdout"
        }
      ]
    },
    {
      "cell_type": "markdown",
      "metadata": {
        "id": "e6U5ySUZ5ylw",
        "colab_type": "text"
      },
      "source": [
        "When you are happy with the quality, create predictions for *test* set, which you will submit to Coursera."
      ]
    },
    {
      "cell_type": "code",
      "metadata": {
        "id": "fzuqKlth5ylw",
        "colab_type": "code",
        "colab": {
          "base_uri": "https://localhost:8080/",
          "height": 173
        },
        "outputId": "1a01b53b-bdb7-4ce5-ab2d-e628a8d31cf6"
      },
      "source": [
        "test_predictions = y_test_predicted\n",
        "test_pred_inversed = mlb.inverse_transform(test_predictions)\n",
        "\n",
        "test_predictions_for_submission = '\\n'.join('%i\\t%s' % (i, ','.join(row)) for i, row in enumerate(test_pred_inversed))\n",
        "grader.submit_tag('MultilabelClassification', test_predictions_for_submission)"
      ],
      "execution_count": 189,
      "outputs": [
        {
          "output_type": "stream",
          "text": [
            "Current answer for task MultilabelClassification is:\n",
            " 0\tmysql,php\n",
            "1\tjavascript\n",
            "2\t\n",
            "3\tjavascript,jquery\n",
            "4\tandroid,java\n",
            "5\tphp,xml\n",
            "6\tajax,json,web-services\n",
            "7\t...\n"
          ],
          "name": "stdout"
        }
      ]
    },
    {
      "cell_type": "markdown",
      "metadata": {
        "id": "ZsKcaF_y5ylz",
        "colab_type": "text"
      },
      "source": [
        "### Analysis of the most important features"
      ]
    },
    {
      "cell_type": "markdown",
      "metadata": {
        "id": "W1PG3F1o5ylz",
        "colab_type": "text"
      },
      "source": [
        "Finally, it is usually a good idea to look at the features (words or n-grams) that are used with the largest weigths in your logistic regression model."
      ]
    },
    {
      "cell_type": "markdown",
      "metadata": {
        "id": "-Tz3NqMm5yl0",
        "colab_type": "text"
      },
      "source": [
        "Implement the function *print_words_for_tag* to find them. Get back to sklearn documentation on [OneVsRestClassifier](http://scikit-learn.org/stable/modules/generated/sklearn.multiclass.OneVsRestClassifier.html) and [LogisticRegression](http://scikit-learn.org/stable/modules/generated/sklearn.linear_model.LogisticRegression.html) if needed."
      ]
    },
    {
      "cell_type": "code",
      "metadata": {
        "id": "wVlGg8EO5yl1",
        "colab_type": "code",
        "colab": {}
      },
      "source": [
        "def print_words_for_tag(classifier, tag, tags_classes, index_to_words, all_words):\n",
        "    \"\"\"\n",
        "        classifier: trained classifier\n",
        "        tag: particular tag\n",
        "        tags_classes: a list of classes names from MultiLabelBinarizer\n",
        "        index_to_words: index_to_words transformation\n",
        "        all_words: all words in the dictionary\n",
        "        \n",
        "        return nothing, just print top 5 positive and top 5 negative words for current tag\n",
        "    \"\"\"\n",
        "    print('Tag:\\t{}'.format(tag))\n",
        "    \n",
        "    # Extract an estimator from the classifier for the given tag.\n",
        "    # Extract feature coefficients from the estimator. \n",
        "    \n",
        "    ######################################\n",
        "    ######### YOUR CODE HERE #############\n",
        "    ######################################\n",
        "    \n",
        "    top_positive_words = # top-5 words sorted by the coefficiens.\n",
        "    top_negative_words = # bottom-5 words  sorted by the coefficients.\n",
        "    print('Top positive words:\\t{}'.format(', '.join(top_positive_words)))\n",
        "    print('Top negative words:\\t{}\\n'.format(', '.join(top_negative_words)))"
      ],
      "execution_count": 0,
      "outputs": []
    },
    {
      "cell_type": "code",
      "metadata": {
        "id": "NSbXIAfH5yl2",
        "colab_type": "code",
        "colab": {}
      },
      "source": [
        "print_words_for_tag(classifier_tfidf, 'c', mlb.classes, tfidf_reversed_vocab, ALL_WORDS)\n",
        "print_words_for_tag(classifier_tfidf, 'c++', mlb.classes, tfidf_reversed_vocab, ALL_WORDS)\n",
        "print_words_for_tag(classifier_tfidf, 'linux', mlb.classes, tfidf_reversed_vocab, ALL_WORDS)"
      ],
      "execution_count": 0,
      "outputs": []
    },
    {
      "cell_type": "markdown",
      "metadata": {
        "id": "oMPP3aUW5yl4",
        "colab_type": "text"
      },
      "source": [
        "### Authorization & Submission\n",
        "To submit assignment parts to Cousera platform, please, enter your e-mail and token into variables below. You can generate token on this programming assignment page. <b>Note:</b> Token expires 30 minutes after generation."
      ]
    },
    {
      "cell_type": "code",
      "metadata": {
        "id": "EImlHSVk5yl5",
        "colab_type": "code",
        "colab": {
          "base_uri": "https://localhost:8080/",
          "height": 364
        },
        "outputId": "c12d8eea-d45b-4449-ed8d-1d78fc5ae11c"
      },
      "source": [
        "grader.status()"
      ],
      "execution_count": 182,
      "outputs": [
        {
          "output_type": "stream",
          "text": [
            "You want to submit these parts:\n",
            "Task TextPrepare:\n",
            " sqlite php readonly\n",
            "creating multiple textboxes dynamically\n",
            "self one prefer javascript\n",
            "save php date...\n",
            "Task WordsTagsCount:\n",
            " java,c#,javascript\n",
            "java,php,using...\n",
            "Task BagOfWords:\n",
            " 7...\n",
            "Task MultilabelClassification:\n",
            " 0\tmysql,php\n",
            "1\tjavascript\n",
            "2\t\n",
            "3\tjavascript,jquery\n",
            "4\tandroid,java\n",
            "5\tphp,xml\n",
            "6\tajax,json,web-services\n",
            "7\t...\n"
          ],
          "name": "stdout"
        }
      ]
    },
    {
      "cell_type": "code",
      "metadata": {
        "id": "yXov9zbI5yl8",
        "colab_type": "code",
        "colab": {
          "base_uri": "https://localhost:8080/",
          "height": 364
        },
        "outputId": "53675689-385e-4970-ae67-dc02f2baa7d6"
      },
      "source": [
        "STUDENT_EMAIL = \"louis.korczowski@gmail.com\" # EMAIL \n",
        "STUDENT_TOKEN = \"\" # TOKEN \n",
        "grader.status()"
      ],
      "execution_count": 184,
      "outputs": [
        {
          "output_type": "stream",
          "text": [
            "You want to submit these parts:\n",
            "Task TextPrepare:\n",
            " sqlite php readonly\n",
            "creating multiple textboxes dynamically\n",
            "self one prefer javascript\n",
            "save php date...\n",
            "Task WordsTagsCount:\n",
            " java,c#,javascript\n",
            "java,php,using...\n",
            "Task BagOfWords:\n",
            " 7...\n",
            "Task MultilabelClassification:\n",
            " 0\tmysql,php\n",
            "1\tjavascript\n",
            "2\t\n",
            "3\tjavascript,jquery\n",
            "4\tandroid,java\n",
            "5\tphp,xml\n",
            "6\tajax,json,web-services\n",
            "7\t...\n"
          ],
          "name": "stdout"
        }
      ]
    },
    {
      "cell_type": "markdown",
      "metadata": {
        "id": "uBzdefIF5yl9",
        "colab_type": "text"
      },
      "source": [
        "If you want to submit these answers, run cell below"
      ]
    },
    {
      "cell_type": "code",
      "metadata": {
        "id": "89kL31r65yl-",
        "colab_type": "code",
        "colab": {
          "base_uri": "https://localhost:8080/",
          "height": 34
        },
        "outputId": "16b75475-6aea-4d32-9311-5930fa6b1582"
      },
      "source": [
        "grader.submit(STUDENT_EMAIL, STUDENT_TOKEN)"
      ],
      "execution_count": 185,
      "outputs": [
        {
          "output_type": "stream",
          "text": [
            "Submitted to Coursera platform. See results on assignment page!\n"
          ],
          "name": "stdout"
        }
      ]
    }
  ]
}